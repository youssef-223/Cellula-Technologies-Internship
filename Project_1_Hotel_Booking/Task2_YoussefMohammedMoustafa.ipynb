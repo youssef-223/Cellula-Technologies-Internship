{
  "cells": [
    {
      "cell_type": "markdown",
      "metadata": {
        "id": "O-XXXLazIRlJ"
      },
      "source": [
        "| Column Name         | Description                                                                                     |\n",
        "|---------------------|-------------------------------------------------------------------------------------------------|\n",
        "| Booking_ID | Unique identifier for each booking.                                                               |\n",
        "| number of adults           | The count of adult guests in the booking.                                                                              |\n",
        "| number of children         |The count of child guests in the booking.                                                                            |\n",
        "| number of weekend nights       | The number of nights during the weekend (typically Friday and Saturday nights).                                             |\n",
        "| number of week nights             | The number of nights during the weekdays (Sunday through Thursday nights).                         |\n",
        "| type of meal   | The meal plan included in the booking.                      |\n",
        "| car parking space                 | Whether the booking includes a parking space for a car.                                                            |\n",
        "| room type         | The type of room booked.                                                          |\n",
        "| lead time     | Number of days that elapsed between date of the booking into the PMS and the arrival date                                                           |\n",
        "| market segment type    | The market segment the booking belongs to                                                   |\n",
        "| repeated     | Indicates whether the booking is a repeat booking.                                                    |\n",
        "| P-C   | Probability of Cancelation - The likelihood that the booking will be canceled.                                                  |\n",
        "| P-not-C    | Probability of Not Cancelation - The likelihood that the booking will not be canceled.                                                   |\n",
        "| average price      | The average price per night for the booking.                                                              |\n",
        "| special requests                | Any additional requests or requirements made by the guest.                                                         |\n",
        "| date of reservation                 | Date when the booking was made.                                                        |\n",
        "| booking status               | The current status of the booking (e.g., confirmed, canceled, pending).                                                                   |\n"
      ]
    },
    {
      "cell_type": "code",
      "execution_count": 29,
      "metadata": {
        "id": "SETSU4MvKO3M"
      },
      "outputs": [],
      "source": [
        "import numpy as np\n",
        "import pandas as pd\n",
        "import pickle\n",
        "\n",
        "import seaborn as sns\n",
        "import matplotlib.pyplot as plt\n",
        "\n",
        "from sklearn.linear_model import LogisticRegression\n",
        "from sklearn.preprocessing import OneHotEncoder, StandardScaler, PolynomialFeatures \n",
        "from sklearn.compose import ColumnTransformer\n",
        "from sklearn.pipeline import Pipeline\n",
        "from sklearn.model_selection import train_test_split\n",
        "from sklearn.metrics import mean_squared_error, f1_score, accuracy_score, classification_report\n",
        "from sklearn.tree import DecisionTreeClassifier\n",
        "from sklearn.ensemble import GradientBoostingClassifier, RandomForestClassifier\n",
        "from sklearn.model_selection import GridSearchCV\n",
        "\n",
        "\n",
        "from scipy.stats import zscore, skew\n",
        "\n"
      ]
    },
    {
      "cell_type": "markdown",
      "metadata": {
        "id": "2jMROl6OQk2D"
      },
      "source": [
        "#Step 1 **Data Preprocessing**"
      ]
    },
    {
      "cell_type": "code",
      "execution_count": 2,
      "metadata": {
        "colab": {
          "base_uri": "https://localhost:8080/",
          "height": 669
        },
        "id": "BMFdeP6OQhN5",
        "outputId": "8c76e625-38ae-4568-9457-dc7d7c29289b"
      },
      "outputs": [
        {
          "data": {
            "text/html": [
              "<div>\n",
              "<style scoped>\n",
              "    .dataframe tbody tr th:only-of-type {\n",
              "        vertical-align: middle;\n",
              "    }\n",
              "\n",
              "    .dataframe tbody tr th {\n",
              "        vertical-align: top;\n",
              "    }\n",
              "\n",
              "    .dataframe thead th {\n",
              "        text-align: right;\n",
              "    }\n",
              "</style>\n",
              "<table border=\"1\" class=\"dataframe\">\n",
              "  <thead>\n",
              "    <tr style=\"text-align: right;\">\n",
              "      <th></th>\n",
              "      <th>Booking_ID</th>\n",
              "      <th>number of adults</th>\n",
              "      <th>number of children</th>\n",
              "      <th>number of weekend nights</th>\n",
              "      <th>number of week nights</th>\n",
              "      <th>type of meal</th>\n",
              "      <th>car parking space</th>\n",
              "      <th>room type</th>\n",
              "      <th>lead time</th>\n",
              "      <th>market segment type</th>\n",
              "      <th>repeated</th>\n",
              "      <th>P-C</th>\n",
              "      <th>P-not-C</th>\n",
              "      <th>average price</th>\n",
              "      <th>special requests</th>\n",
              "      <th>date of reservation</th>\n",
              "      <th>booking status</th>\n",
              "    </tr>\n",
              "  </thead>\n",
              "  <tbody>\n",
              "    <tr>\n",
              "      <th>0</th>\n",
              "      <td>INN00001</td>\n",
              "      <td>1</td>\n",
              "      <td>1</td>\n",
              "      <td>2</td>\n",
              "      <td>5</td>\n",
              "      <td>Meal Plan 1</td>\n",
              "      <td>0</td>\n",
              "      <td>Room_Type 1</td>\n",
              "      <td>224</td>\n",
              "      <td>Offline</td>\n",
              "      <td>0</td>\n",
              "      <td>0</td>\n",
              "      <td>0</td>\n",
              "      <td>88.00</td>\n",
              "      <td>0</td>\n",
              "      <td>10/2/2015</td>\n",
              "      <td>Not_Canceled</td>\n",
              "    </tr>\n",
              "    <tr>\n",
              "      <th>1</th>\n",
              "      <td>INN00002</td>\n",
              "      <td>1</td>\n",
              "      <td>0</td>\n",
              "      <td>1</td>\n",
              "      <td>3</td>\n",
              "      <td>Not Selected</td>\n",
              "      <td>0</td>\n",
              "      <td>Room_Type 1</td>\n",
              "      <td>5</td>\n",
              "      <td>Online</td>\n",
              "      <td>0</td>\n",
              "      <td>0</td>\n",
              "      <td>0</td>\n",
              "      <td>106.68</td>\n",
              "      <td>1</td>\n",
              "      <td>11/6/2018</td>\n",
              "      <td>Not_Canceled</td>\n",
              "    </tr>\n",
              "    <tr>\n",
              "      <th>2</th>\n",
              "      <td>INN00003</td>\n",
              "      <td>2</td>\n",
              "      <td>1</td>\n",
              "      <td>1</td>\n",
              "      <td>3</td>\n",
              "      <td>Meal Plan 1</td>\n",
              "      <td>0</td>\n",
              "      <td>Room_Type 1</td>\n",
              "      <td>1</td>\n",
              "      <td>Online</td>\n",
              "      <td>0</td>\n",
              "      <td>0</td>\n",
              "      <td>0</td>\n",
              "      <td>50.00</td>\n",
              "      <td>0</td>\n",
              "      <td>2/28/2018</td>\n",
              "      <td>Canceled</td>\n",
              "    </tr>\n",
              "    <tr>\n",
              "      <th>3</th>\n",
              "      <td>INN00004</td>\n",
              "      <td>1</td>\n",
              "      <td>0</td>\n",
              "      <td>0</td>\n",
              "      <td>2</td>\n",
              "      <td>Meal Plan 1</td>\n",
              "      <td>0</td>\n",
              "      <td>Room_Type 1</td>\n",
              "      <td>211</td>\n",
              "      <td>Online</td>\n",
              "      <td>0</td>\n",
              "      <td>0</td>\n",
              "      <td>0</td>\n",
              "      <td>100.00</td>\n",
              "      <td>1</td>\n",
              "      <td>5/20/2017</td>\n",
              "      <td>Canceled</td>\n",
              "    </tr>\n",
              "    <tr>\n",
              "      <th>4</th>\n",
              "      <td>INN00005</td>\n",
              "      <td>1</td>\n",
              "      <td>0</td>\n",
              "      <td>1</td>\n",
              "      <td>2</td>\n",
              "      <td>Not Selected</td>\n",
              "      <td>0</td>\n",
              "      <td>Room_Type 1</td>\n",
              "      <td>48</td>\n",
              "      <td>Online</td>\n",
              "      <td>0</td>\n",
              "      <td>0</td>\n",
              "      <td>0</td>\n",
              "      <td>77.00</td>\n",
              "      <td>0</td>\n",
              "      <td>4/11/2018</td>\n",
              "      <td>Canceled</td>\n",
              "    </tr>\n",
              "    <tr>\n",
              "      <th>...</th>\n",
              "      <td>...</td>\n",
              "      <td>...</td>\n",
              "      <td>...</td>\n",
              "      <td>...</td>\n",
              "      <td>...</td>\n",
              "      <td>...</td>\n",
              "      <td>...</td>\n",
              "      <td>...</td>\n",
              "      <td>...</td>\n",
              "      <td>...</td>\n",
              "      <td>...</td>\n",
              "      <td>...</td>\n",
              "      <td>...</td>\n",
              "      <td>...</td>\n",
              "      <td>...</td>\n",
              "      <td>...</td>\n",
              "      <td>...</td>\n",
              "    </tr>\n",
              "    <tr>\n",
              "      <th>36280</th>\n",
              "      <td>INN36282</td>\n",
              "      <td>2</td>\n",
              "      <td>0</td>\n",
              "      <td>0</td>\n",
              "      <td>2</td>\n",
              "      <td>Meal Plan 2</td>\n",
              "      <td>0</td>\n",
              "      <td>Room_Type 1</td>\n",
              "      <td>346</td>\n",
              "      <td>Online</td>\n",
              "      <td>0</td>\n",
              "      <td>0</td>\n",
              "      <td>0</td>\n",
              "      <td>115.00</td>\n",
              "      <td>1</td>\n",
              "      <td>9/13/2018</td>\n",
              "      <td>Canceled</td>\n",
              "    </tr>\n",
              "    <tr>\n",
              "      <th>36281</th>\n",
              "      <td>INN36283</td>\n",
              "      <td>2</td>\n",
              "      <td>0</td>\n",
              "      <td>1</td>\n",
              "      <td>3</td>\n",
              "      <td>Meal Plan 1</td>\n",
              "      <td>0</td>\n",
              "      <td>Room_Type 1</td>\n",
              "      <td>34</td>\n",
              "      <td>Online</td>\n",
              "      <td>0</td>\n",
              "      <td>0</td>\n",
              "      <td>0</td>\n",
              "      <td>107.55</td>\n",
              "      <td>1</td>\n",
              "      <td>10/15/2017</td>\n",
              "      <td>Not_Canceled</td>\n",
              "    </tr>\n",
              "    <tr>\n",
              "      <th>36282</th>\n",
              "      <td>INN36284</td>\n",
              "      <td>2</td>\n",
              "      <td>0</td>\n",
              "      <td>1</td>\n",
              "      <td>3</td>\n",
              "      <td>Meal Plan 1</td>\n",
              "      <td>0</td>\n",
              "      <td>Room_Type 4</td>\n",
              "      <td>83</td>\n",
              "      <td>Online</td>\n",
              "      <td>0</td>\n",
              "      <td>0</td>\n",
              "      <td>0</td>\n",
              "      <td>105.61</td>\n",
              "      <td>1</td>\n",
              "      <td>12/26/2018</td>\n",
              "      <td>Not_Canceled</td>\n",
              "    </tr>\n",
              "    <tr>\n",
              "      <th>36283</th>\n",
              "      <td>INN36285</td>\n",
              "      <td>3</td>\n",
              "      <td>0</td>\n",
              "      <td>0</td>\n",
              "      <td>4</td>\n",
              "      <td>Meal Plan 1</td>\n",
              "      <td>0</td>\n",
              "      <td>Room_Type 1</td>\n",
              "      <td>121</td>\n",
              "      <td>Offline</td>\n",
              "      <td>0</td>\n",
              "      <td>0</td>\n",
              "      <td>0</td>\n",
              "      <td>96.90</td>\n",
              "      <td>1</td>\n",
              "      <td>7/6/2018</td>\n",
              "      <td>Not_Canceled</td>\n",
              "    </tr>\n",
              "    <tr>\n",
              "      <th>36284</th>\n",
              "      <td>INN36286</td>\n",
              "      <td>2</td>\n",
              "      <td>0</td>\n",
              "      <td>0</td>\n",
              "      <td>5</td>\n",
              "      <td>Meal Plan 1</td>\n",
              "      <td>0</td>\n",
              "      <td>Room_Type 4</td>\n",
              "      <td>44</td>\n",
              "      <td>Online</td>\n",
              "      <td>0</td>\n",
              "      <td>0</td>\n",
              "      <td>0</td>\n",
              "      <td>133.44</td>\n",
              "      <td>3</td>\n",
              "      <td>10/18/2018</td>\n",
              "      <td>Not_Canceled</td>\n",
              "    </tr>\n",
              "  </tbody>\n",
              "</table>\n",
              "<p>36285 rows × 17 columns</p>\n",
              "</div>"
            ],
            "text/plain": [
              "      Booking_ID  number of adults  number of children  \\\n",
              "0       INN00001                 1                   1   \n",
              "1       INN00002                 1                   0   \n",
              "2       INN00003                 2                   1   \n",
              "3       INN00004                 1                   0   \n",
              "4       INN00005                 1                   0   \n",
              "...          ...               ...                 ...   \n",
              "36280   INN36282                 2                   0   \n",
              "36281   INN36283                 2                   0   \n",
              "36282   INN36284                 2                   0   \n",
              "36283   INN36285                 3                   0   \n",
              "36284   INN36286                 2                   0   \n",
              "\n",
              "       number of weekend nights  number of week nights  type of meal  \\\n",
              "0                             2                      5   Meal Plan 1   \n",
              "1                             1                      3  Not Selected   \n",
              "2                             1                      3   Meal Plan 1   \n",
              "3                             0                      2   Meal Plan 1   \n",
              "4                             1                      2  Not Selected   \n",
              "...                         ...                    ...           ...   \n",
              "36280                         0                      2   Meal Plan 2   \n",
              "36281                         1                      3   Meal Plan 1   \n",
              "36282                         1                      3   Meal Plan 1   \n",
              "36283                         0                      4   Meal Plan 1   \n",
              "36284                         0                      5   Meal Plan 1   \n",
              "\n",
              "       car parking space    room type  lead time market segment type  \\\n",
              "0                      0  Room_Type 1        224             Offline   \n",
              "1                      0  Room_Type 1          5              Online   \n",
              "2                      0  Room_Type 1          1              Online   \n",
              "3                      0  Room_Type 1        211              Online   \n",
              "4                      0  Room_Type 1         48              Online   \n",
              "...                  ...          ...        ...                 ...   \n",
              "36280                  0  Room_Type 1        346              Online   \n",
              "36281                  0  Room_Type 1         34              Online   \n",
              "36282                  0  Room_Type 4         83              Online   \n",
              "36283                  0  Room_Type 1        121             Offline   \n",
              "36284                  0  Room_Type 4         44              Online   \n",
              "\n",
              "       repeated  P-C  P-not-C  average price   special requests  \\\n",
              "0             0    0        0           88.00                 0   \n",
              "1             0    0        0          106.68                 1   \n",
              "2             0    0        0           50.00                 0   \n",
              "3             0    0        0          100.00                 1   \n",
              "4             0    0        0           77.00                 0   \n",
              "...         ...  ...      ...             ...               ...   \n",
              "36280         0    0        0          115.00                 1   \n",
              "36281         0    0        0          107.55                 1   \n",
              "36282         0    0        0          105.61                 1   \n",
              "36283         0    0        0           96.90                 1   \n",
              "36284         0    0        0          133.44                 3   \n",
              "\n",
              "      date of reservation booking status  \n",
              "0               10/2/2015   Not_Canceled  \n",
              "1               11/6/2018   Not_Canceled  \n",
              "2               2/28/2018       Canceled  \n",
              "3               5/20/2017       Canceled  \n",
              "4               4/11/2018       Canceled  \n",
              "...                   ...            ...  \n",
              "36280           9/13/2018       Canceled  \n",
              "36281          10/15/2017   Not_Canceled  \n",
              "36282          12/26/2018   Not_Canceled  \n",
              "36283            7/6/2018   Not_Canceled  \n",
              "36284          10/18/2018   Not_Canceled  \n",
              "\n",
              "[36285 rows x 17 columns]"
            ]
          },
          "execution_count": 2,
          "metadata": {},
          "output_type": "execute_result"
        }
      ],
      "source": [
        "df = pd.read_csv(r\"C:\\Users\\youss\\Desktop\\eng\\Machine_learning_course\\Cellula technologies\\first inten project.csv\")\n",
        "df"
      ]
    },
    {
      "cell_type": "code",
      "execution_count": 3,
      "metadata": {
        "colab": {
          "base_uri": "https://localhost:8080/",
          "height": 355
        },
        "id": "NgjEYw5NQ3Jr",
        "outputId": "8da09f91-4d70-4792-b584-e8436c92d319"
      },
      "outputs": [
        {
          "data": {
            "text/html": [
              "<div>\n",
              "<style scoped>\n",
              "    .dataframe tbody tr th:only-of-type {\n",
              "        vertical-align: middle;\n",
              "    }\n",
              "\n",
              "    .dataframe tbody tr th {\n",
              "        vertical-align: top;\n",
              "    }\n",
              "\n",
              "    .dataframe thead th {\n",
              "        text-align: right;\n",
              "    }\n",
              "</style>\n",
              "<table border=\"1\" class=\"dataframe\">\n",
              "  <thead>\n",
              "    <tr style=\"text-align: right;\">\n",
              "      <th></th>\n",
              "      <th>number of adults</th>\n",
              "      <th>number of children</th>\n",
              "      <th>number of weekend nights</th>\n",
              "      <th>number of week nights</th>\n",
              "      <th>car parking space</th>\n",
              "      <th>lead time</th>\n",
              "      <th>repeated</th>\n",
              "      <th>P-C</th>\n",
              "      <th>P-not-C</th>\n",
              "      <th>average price</th>\n",
              "      <th>special requests</th>\n",
              "    </tr>\n",
              "  </thead>\n",
              "  <tbody>\n",
              "    <tr>\n",
              "      <th>count</th>\n",
              "      <td>36285.000000</td>\n",
              "      <td>36285.000000</td>\n",
              "      <td>36285.000000</td>\n",
              "      <td>36285.000000</td>\n",
              "      <td>36285.000000</td>\n",
              "      <td>36285.000000</td>\n",
              "      <td>36285.000000</td>\n",
              "      <td>36285.000000</td>\n",
              "      <td>36285.000000</td>\n",
              "      <td>36285.000000</td>\n",
              "      <td>36285.000000</td>\n",
              "    </tr>\n",
              "    <tr>\n",
              "      <th>mean</th>\n",
              "      <td>1.844839</td>\n",
              "      <td>0.105360</td>\n",
              "      <td>0.810693</td>\n",
              "      <td>2.204602</td>\n",
              "      <td>0.030977</td>\n",
              "      <td>85.239851</td>\n",
              "      <td>0.025630</td>\n",
              "      <td>0.023343</td>\n",
              "      <td>0.153369</td>\n",
              "      <td>103.421636</td>\n",
              "      <td>0.619733</td>\n",
              "    </tr>\n",
              "    <tr>\n",
              "      <th>std</th>\n",
              "      <td>0.518813</td>\n",
              "      <td>0.402704</td>\n",
              "      <td>0.870590</td>\n",
              "      <td>1.410946</td>\n",
              "      <td>0.173258</td>\n",
              "      <td>85.938796</td>\n",
              "      <td>0.158032</td>\n",
              "      <td>0.368281</td>\n",
              "      <td>1.753931</td>\n",
              "      <td>35.086469</td>\n",
              "      <td>0.786262</td>\n",
              "    </tr>\n",
              "    <tr>\n",
              "      <th>min</th>\n",
              "      <td>0.000000</td>\n",
              "      <td>0.000000</td>\n",
              "      <td>0.000000</td>\n",
              "      <td>0.000000</td>\n",
              "      <td>0.000000</td>\n",
              "      <td>0.000000</td>\n",
              "      <td>0.000000</td>\n",
              "      <td>0.000000</td>\n",
              "      <td>0.000000</td>\n",
              "      <td>0.000000</td>\n",
              "      <td>0.000000</td>\n",
              "    </tr>\n",
              "    <tr>\n",
              "      <th>25%</th>\n",
              "      <td>2.000000</td>\n",
              "      <td>0.000000</td>\n",
              "      <td>0.000000</td>\n",
              "      <td>1.000000</td>\n",
              "      <td>0.000000</td>\n",
              "      <td>17.000000</td>\n",
              "      <td>0.000000</td>\n",
              "      <td>0.000000</td>\n",
              "      <td>0.000000</td>\n",
              "      <td>80.300000</td>\n",
              "      <td>0.000000</td>\n",
              "    </tr>\n",
              "    <tr>\n",
              "      <th>50%</th>\n",
              "      <td>2.000000</td>\n",
              "      <td>0.000000</td>\n",
              "      <td>1.000000</td>\n",
              "      <td>2.000000</td>\n",
              "      <td>0.000000</td>\n",
              "      <td>57.000000</td>\n",
              "      <td>0.000000</td>\n",
              "      <td>0.000000</td>\n",
              "      <td>0.000000</td>\n",
              "      <td>99.450000</td>\n",
              "      <td>0.000000</td>\n",
              "    </tr>\n",
              "    <tr>\n",
              "      <th>75%</th>\n",
              "      <td>2.000000</td>\n",
              "      <td>0.000000</td>\n",
              "      <td>2.000000</td>\n",
              "      <td>3.000000</td>\n",
              "      <td>0.000000</td>\n",
              "      <td>126.000000</td>\n",
              "      <td>0.000000</td>\n",
              "      <td>0.000000</td>\n",
              "      <td>0.000000</td>\n",
              "      <td>120.000000</td>\n",
              "      <td>1.000000</td>\n",
              "    </tr>\n",
              "    <tr>\n",
              "      <th>max</th>\n",
              "      <td>4.000000</td>\n",
              "      <td>10.000000</td>\n",
              "      <td>7.000000</td>\n",
              "      <td>17.000000</td>\n",
              "      <td>1.000000</td>\n",
              "      <td>443.000000</td>\n",
              "      <td>1.000000</td>\n",
              "      <td>13.000000</td>\n",
              "      <td>58.000000</td>\n",
              "      <td>540.000000</td>\n",
              "      <td>5.000000</td>\n",
              "    </tr>\n",
              "  </tbody>\n",
              "</table>\n",
              "</div>"
            ],
            "text/plain": [
              "       number of adults  number of children  number of weekend nights  \\\n",
              "count      36285.000000        36285.000000              36285.000000   \n",
              "mean           1.844839            0.105360                  0.810693   \n",
              "std            0.518813            0.402704                  0.870590   \n",
              "min            0.000000            0.000000                  0.000000   \n",
              "25%            2.000000            0.000000                  0.000000   \n",
              "50%            2.000000            0.000000                  1.000000   \n",
              "75%            2.000000            0.000000                  2.000000   \n",
              "max            4.000000           10.000000                  7.000000   \n",
              "\n",
              "       number of week nights  car parking space     lead time      repeated  \\\n",
              "count           36285.000000       36285.000000  36285.000000  36285.000000   \n",
              "mean                2.204602           0.030977     85.239851      0.025630   \n",
              "std                 1.410946           0.173258     85.938796      0.158032   \n",
              "min                 0.000000           0.000000      0.000000      0.000000   \n",
              "25%                 1.000000           0.000000     17.000000      0.000000   \n",
              "50%                 2.000000           0.000000     57.000000      0.000000   \n",
              "75%                 3.000000           0.000000    126.000000      0.000000   \n",
              "max                17.000000           1.000000    443.000000      1.000000   \n",
              "\n",
              "                P-C       P-not-C  average price  special requests  \n",
              "count  36285.000000  36285.000000   36285.000000      36285.000000  \n",
              "mean       0.023343      0.153369     103.421636          0.619733  \n",
              "std        0.368281      1.753931      35.086469          0.786262  \n",
              "min        0.000000      0.000000       0.000000          0.000000  \n",
              "25%        0.000000      0.000000      80.300000          0.000000  \n",
              "50%        0.000000      0.000000      99.450000          0.000000  \n",
              "75%        0.000000      0.000000     120.000000          1.000000  \n",
              "max       13.000000     58.000000     540.000000          5.000000  "
            ]
          },
          "execution_count": 3,
          "metadata": {},
          "output_type": "execute_result"
        }
      ],
      "source": [
        "df.rename(columns ={\"average price \" : \"average price\" }, inplace= True)    # for the extra white space\n",
        "df.describe()"
      ]
    },
    {
      "cell_type": "code",
      "execution_count": 4,
      "metadata": {
        "colab": {
          "base_uri": "https://localhost:8080/"
        },
        "id": "RpRJL27ekkBj",
        "outputId": "c6f73e6a-1671-4011-c2d8-098926ac2a53"
      },
      "outputs": [
        {
          "name": "stdout",
          "output_type": "stream",
          "text": [
            "The size of my Dataset: (36285, 17)\n"
          ]
        }
      ],
      "source": [
        "print(f\"The size of my Dataset: {df.shape}\")"
      ]
    },
    {
      "cell_type": "markdown",
      "metadata": {
        "id": "uquBC-7MR4ZG"
      },
      "source": [
        "##1.1 Check Null"
      ]
    },
    {
      "cell_type": "code",
      "execution_count": 5,
      "metadata": {
        "colab": {
          "base_uri": "https://localhost:8080/"
        },
        "id": "pn74oYZCRDty",
        "outputId": "2b5784f8-af0c-48f2-ee1d-f3a496a864d4"
      },
      "outputs": [
        {
          "name": "stdout",
          "output_type": "stream",
          "text": [
            "DataFrame has null values: False\n"
          ]
        }
      ],
      "source": [
        "has_null = df.isnull().values.any()  # False\n",
        "print(f\"DataFrame has null values: {has_null}\")"
      ]
    },
    {
      "cell_type": "markdown",
      "metadata": {
        "id": "L0JZaaaUSTtp"
      },
      "source": [
        "##1.2 Data Type"
      ]
    },
    {
      "cell_type": "code",
      "execution_count": 6,
      "metadata": {
        "colab": {
          "base_uri": "https://localhost:8080/"
        },
        "id": "BO0L9VL6RMYE",
        "outputId": "28d5bf5b-4240-40c2-f26d-11a0c4d1c692"
      },
      "outputs": [
        {
          "data": {
            "text/plain": [
              "Booking_ID                   object\n",
              "number of adults              int64\n",
              "number of children            int64\n",
              "number of weekend nights      int64\n",
              "number of week nights         int64\n",
              "type of meal                 object\n",
              "car parking space             int64\n",
              "room type                    object\n",
              "lead time                     int64\n",
              "market segment type          object\n",
              "repeated                      int64\n",
              "P-C                           int64\n",
              "P-not-C                       int64\n",
              "average price               float64\n",
              "special requests              int64\n",
              "date of reservation          object\n",
              "booking status               object\n",
              "dtype: object"
            ]
          },
          "execution_count": 6,
          "metadata": {},
          "output_type": "execute_result"
        }
      ],
      "source": [
        "df.dtypes"
      ]
    },
    {
      "cell_type": "markdown",
      "metadata": {
        "id": "SkKqLvgSUDOH"
      },
      "source": [
        "Each Column has its appropriate data type"
      ]
    },
    {
      "cell_type": "code",
      "execution_count": 7,
      "metadata": {
        "colab": {
          "base_uri": "https://localhost:8080/"
        },
        "id": "gDZ6wNrBEiMO",
        "outputId": "6e093841-a0c1-4f59-a89d-8b41f4995cad"
      },
      "outputs": [
        {
          "name": "stdout",
          "output_type": "stream",
          "text": [
            "Duplicate rows in the DataFrame:\n",
            "Empty DataFrame\n",
            "Columns: [Booking_ID, number of adults, number of children, number of weekend nights, number of week nights, type of meal, car parking space, room type, lead time, market segment type, repeated, P-C, P-not-C, average price, special requests, date of reservation, booking status]\n",
            "Index: []\n"
          ]
        }
      ],
      "source": [
        "# Check for duplicates in the entire DataFrame\n",
        "duplicates = df[df.duplicated()]\n",
        "\n",
        "print(\"Duplicate rows in the DataFrame:\")\n",
        "print(duplicates)"
      ]
    },
    {
      "cell_type": "markdown",
      "metadata": {
        "id": "9rbcapWZElo4"
      },
      "source": [
        "Note: Data has no dublicates"
      ]
    },
    {
      "cell_type": "markdown",
      "metadata": {
        "id": "fnwyiutqUada"
      },
      "source": [
        "#Step 2 **Check an Handle Outliers**"
      ]
    },
    {
      "cell_type": "markdown",
      "metadata": {
        "id": "CAYTOSs5Ugtr"
      },
      "source": [
        "##2.1 Check Outliers"
      ]
    },
    {
      "cell_type": "code",
      "execution_count": 8,
      "metadata": {
        "colab": {
          "base_uri": "https://localhost:8080/"
        },
        "id": "VaPDqn5HTmT0",
        "outputId": "59179e94-d1af-4908-f712-df9954b7888f"
      },
      "outputs": [
        {
          "name": "stdout",
          "output_type": "stream",
          "text": [
            "Skewness of numeric columns:\n",
            "number of adults            -0.332819\n",
            "number of children           4.707481\n",
            "number of weekend nights     0.737605\n",
            "number of week nights        1.598619\n",
            "car parking space            5.414240\n",
            "lead time                    1.292382\n",
            "repeated                     6.003535\n",
            "P-C                         25.202317\n",
            "P-not-C                     19.252059\n",
            "average price                0.667158\n",
            "special requests             1.145051\n",
            "dtype: float64\n"
          ]
        }
      ],
      "source": [
        "numeric_cols = df.select_dtypes(include=[np.number]).columns\n",
        "cat_cols = df.select_dtypes(include=['object'])\n",
        "\n",
        "skewness_values = df[numeric_cols].apply(skew)\n",
        "print(\"Skewness of numeric columns:\")\n",
        "print(skewness_values)"
      ]
    },
    {
      "cell_type": "markdown",
      "metadata": {
        "id": "FuoWOQJnaLwm"
      },
      "source": [
        "Notice the high Skewness in the data.\n",
        "To handle outliers we have 2 methods:\n",
        "\n",
        "1.   Use ***Zscore*** for normal distributed data\n",
        "\n",
        "2.   Use ***IQR*** for skewed data\n",
        "\n",
        "\n",
        "\n",
        "\n",
        "In the following code we check for skweness and apply the suitable method (using a threshold of 0.5)"
      ]
    },
    {
      "cell_type": "code",
      "execution_count": 9,
      "metadata": {
        "colab": {
          "base_uri": "https://localhost:8080/"
        },
        "id": "HNVxJCP7V-HY",
        "outputId": "7e7a00bd-fbe2-4d31-e239-3fab7c975927"
      },
      "outputs": [
        {
          "name": "stdout",
          "output_type": "stream",
          "text": [
            "Outliers detected using Z-score:\n",
            "Empty DataFrame\n",
            "Columns: []\n",
            "Index: []\n",
            "\n",
            "Outliers detected using IQR:\n",
            "       lead time  average price\n",
            "5          346.0            NaN\n",
            "118        443.0            NaN\n",
            "199        418.0            NaN\n",
            "205        433.0            NaN\n",
            "369        386.0            NaN\n",
            "...          ...            ...\n",
            "36217        NaN            0.0\n",
            "36221        NaN          207.9\n",
            "36227        NaN          231.0\n",
            "36250        NaN            0.0\n",
            "36269        NaN          216.0\n",
            "\n",
            "[1442 rows x 2 columns]\n",
            "Total number of rows has outliers: \"1442\" \n",
            "The size of the Dataset after extracting outliers: \"(34843, 17)\"\n",
            "The percentage of outliers removed: 3.97%\n"
          ]
        }
      ],
      "source": [
        "numeric_cont_cols = ['lead time', 'average price']\n",
        "skewed_cols = df[numeric_cont_cols].apply(skew)\n",
        "\n",
        "outliers_zscore = pd.DataFrame()\n",
        "outliers_IQR = pd.DataFrame()\n",
        "\n",
        "for col in numeric_cont_cols:\n",
        "\n",
        "  if(np.abs(skewed_cols[col]) < 0.5):\n",
        "    # Use Z-score for near-normal distributions\n",
        "    z_scores = np.abs(zscore(df[col]))\n",
        "    outliers_rows = df.loc[z_scores > 4, col]\n",
        "    # Store the outliers rows with its outlier value for any further processing\n",
        "    outliers_zscore = pd.concat([outliers_zscore, outliers_rows], axis=1)       #column wise\n",
        "\n",
        "  else:\n",
        "    Q1 = df[col].quantile(.25)\n",
        "    Q3 = df[col].quantile(.75)\n",
        "    IQR = Q3 - Q1\n",
        "    # Used factor 2 instead of 1.5 due to the high percentage of outliers\n",
        "    outliers_col = df.loc[(df[col] < (Q1 - 2 * IQR)) | (df[col] > (Q3 + 2 * IQR)), col]\n",
        "    outliers_IQR = pd.concat([outliers_IQR, outliers_col], axis=1)\n",
        "\n",
        "\n",
        "# Combine outlier indices from both methods\n",
        "outlier_indices_zscore = outliers_zscore.index\n",
        "outlier_indices_IQR = outliers_IQR.index\n",
        "total_outlier_indices = outlier_indices_zscore.union(outlier_indices_IQR)\n",
        "\n",
        "# Remove outliers from the original DataFrame\n",
        "df_cleaned = df.drop(total_outlier_indices)\n",
        "\n",
        "print(\"Outliers detected using Z-score:\")\n",
        "print(outliers_zscore)\n",
        "print(\"\\nOutliers detected using IQR:\")\n",
        "print(outliers_IQR)\n",
        "\n",
        "outliers_count = len(total_outlier_indices)\n",
        "total_rows = df.shape[0]\n",
        "cleaned_rows = df_cleaned.shape[0]\n",
        "percentage_outliers = (outliers_count / total_rows) * 100\n",
        "\n",
        "\n",
        "print(f'Total number of rows has outliers: \"{outliers_count}\" ')\n",
        "print(f'The size of the Dataset after extracting outliers: \"{df_cleaned.shape}\"')\n",
        "\n",
        "print(f'The percentage of outliers removed: {percentage_outliers:.2f}%')\n",
        "df = df_cleaned"
      ]
    },
    {
      "cell_type": "markdown",
      "metadata": {
        "id": "XA-jVe55nt6I"
      },
      "source": [
        "Note:\n",
        "\n",
        "\n",
        "*   Low Percentage: In many cases, datasets with well-behaved, normally distributed data might have outlier percentages in the range of 1% to 5%.\n",
        "*   Higher Percentage: Datasets with skewed distributions or data prone to extreme values (e.g., income data, social media metrics) might have outlier percentages exceeding 5% or more.\n",
        "\n",
        "-ChatGPT\n",
        "\n"
      ]
    },
    {
      "cell_type": "markdown",
      "metadata": {
        "id": "mKL3beyC1iPn"
      },
      "source": [
        "#Step 3 **Feature Engineering**"
      ]
    },
    {
      "cell_type": "code",
      "execution_count": 10,
      "metadata": {
        "colab": {
          "base_uri": "https://localhost:8080/"
        },
        "id": "B2QR4AML332O",
        "outputId": "e40a0650-0534-4dcd-cbee-6e1ec0323c45"
      },
      "outputs": [
        {
          "name": "stdout",
          "output_type": "stream",
          "text": [
            "DataFrame has null values: 37\n"
          ]
        }
      ],
      "source": [
        "df['date of reservation'] = pd.to_datetime(df['date of reservation'], format='%m/%d/%Y',errors ='coerce')\n",
        "df.drop(columns=['Booking_ID'], inplace=True)\n",
        "\n",
        "# Extract date features\n",
        "df['reservation_year'] = df['date of reservation'].dt.year\n",
        "df['reservation_month'] = df['date of reservation'].dt.month\n",
        "df['reservation_day'] = df['date of reservation'].dt.day\n",
        "df['reservation_day_of_week'] = df['date of reservation'].dt.dayofweek\n",
        "df['is_weekend'] = df['reservation_day_of_week'].apply(lambda x: 1 if x in [4,5] else 0)      # for friday and saturday\n",
        "df.drop(columns=['date of reservation'], inplace=True)\n",
        "\n",
        "# Create new features\n",
        "df['stay_duration'] = df['number of weekend nights'] + df['number of week nights']\n",
        "df['total_guests'] = df['number of adults'] + df['number of children']\n",
        "\n",
        "# Handle missing values if any\n",
        "num_rows_with_nan = df.isna().any(axis=1).sum()\n",
        "print(f\"DataFrame has null values: {num_rows_with_nan}\")\n",
        "if num_rows_with_nan:\n",
        "  df.dropna(inplace=True)\n"
      ]
    },
    {
      "cell_type": "markdown",
      "metadata": {
        "id": "MbMblonBi0eI"
      },
      "source": [
        "#Step 4: **Transformation For The Categorical Data**"
      ]
    },
    {
      "cell_type": "code",
      "execution_count": 11,
      "metadata": {
        "id": "JNgPmNZ3hkdV"
      },
      "outputs": [],
      "source": [
        "# First encode the binary categories\n",
        "df['booking status'] = df['booking status'].map({'Canceled': 0, 'Not_Canceled': 1})\n",
        "\n",
        "# Second encode the multivalue categories\n",
        "tmp_cols = df.select_dtypes(include='object').columns\n",
        "encoded_df = pd.get_dummies(data = df, prefix = tmp_cols, columns = tmp_cols)\n",
        "del(tmp_cols)"
      ]
    },
    {
      "cell_type": "code",
      "execution_count": 12,
      "metadata": {
        "colab": {
          "base_uri": "https://localhost:8080/",
          "height": 495
        },
        "id": "ZNrpF6L2frtm",
        "outputId": "9d942cde-1f1e-4fc1-f149-7dcfbe15b96f"
      },
      "outputs": [
        {
          "data": {
            "text/html": [
              "<div>\n",
              "<style scoped>\n",
              "    .dataframe tbody tr th:only-of-type {\n",
              "        vertical-align: middle;\n",
              "    }\n",
              "\n",
              "    .dataframe tbody tr th {\n",
              "        vertical-align: top;\n",
              "    }\n",
              "\n",
              "    .dataframe thead th {\n",
              "        text-align: right;\n",
              "    }\n",
              "</style>\n",
              "<table border=\"1\" class=\"dataframe\">\n",
              "  <thead>\n",
              "    <tr style=\"text-align: right;\">\n",
              "      <th></th>\n",
              "      <th>number of adults</th>\n",
              "      <th>number of children</th>\n",
              "      <th>number of weekend nights</th>\n",
              "      <th>number of week nights</th>\n",
              "      <th>car parking space</th>\n",
              "      <th>lead time</th>\n",
              "      <th>repeated</th>\n",
              "      <th>P-C</th>\n",
              "      <th>P-not-C</th>\n",
              "      <th>average price</th>\n",
              "      <th>...</th>\n",
              "      <th>room type_Room_Type 3</th>\n",
              "      <th>room type_Room_Type 4</th>\n",
              "      <th>room type_Room_Type 5</th>\n",
              "      <th>room type_Room_Type 6</th>\n",
              "      <th>room type_Room_Type 7</th>\n",
              "      <th>market segment type_Aviation</th>\n",
              "      <th>market segment type_Complementary</th>\n",
              "      <th>market segment type_Corporate</th>\n",
              "      <th>market segment type_Offline</th>\n",
              "      <th>market segment type_Online</th>\n",
              "    </tr>\n",
              "  </thead>\n",
              "  <tbody>\n",
              "    <tr>\n",
              "      <th>0</th>\n",
              "      <td>1</td>\n",
              "      <td>1</td>\n",
              "      <td>2</td>\n",
              "      <td>5</td>\n",
              "      <td>0</td>\n",
              "      <td>224</td>\n",
              "      <td>0</td>\n",
              "      <td>0</td>\n",
              "      <td>0</td>\n",
              "      <td>88.00</td>\n",
              "      <td>...</td>\n",
              "      <td>False</td>\n",
              "      <td>False</td>\n",
              "      <td>False</td>\n",
              "      <td>False</td>\n",
              "      <td>False</td>\n",
              "      <td>False</td>\n",
              "      <td>False</td>\n",
              "      <td>False</td>\n",
              "      <td>True</td>\n",
              "      <td>False</td>\n",
              "    </tr>\n",
              "    <tr>\n",
              "      <th>1</th>\n",
              "      <td>1</td>\n",
              "      <td>0</td>\n",
              "      <td>1</td>\n",
              "      <td>3</td>\n",
              "      <td>0</td>\n",
              "      <td>5</td>\n",
              "      <td>0</td>\n",
              "      <td>0</td>\n",
              "      <td>0</td>\n",
              "      <td>106.68</td>\n",
              "      <td>...</td>\n",
              "      <td>False</td>\n",
              "      <td>False</td>\n",
              "      <td>False</td>\n",
              "      <td>False</td>\n",
              "      <td>False</td>\n",
              "      <td>False</td>\n",
              "      <td>False</td>\n",
              "      <td>False</td>\n",
              "      <td>False</td>\n",
              "      <td>True</td>\n",
              "    </tr>\n",
              "    <tr>\n",
              "      <th>2</th>\n",
              "      <td>2</td>\n",
              "      <td>1</td>\n",
              "      <td>1</td>\n",
              "      <td>3</td>\n",
              "      <td>0</td>\n",
              "      <td>1</td>\n",
              "      <td>0</td>\n",
              "      <td>0</td>\n",
              "      <td>0</td>\n",
              "      <td>50.00</td>\n",
              "      <td>...</td>\n",
              "      <td>False</td>\n",
              "      <td>False</td>\n",
              "      <td>False</td>\n",
              "      <td>False</td>\n",
              "      <td>False</td>\n",
              "      <td>False</td>\n",
              "      <td>False</td>\n",
              "      <td>False</td>\n",
              "      <td>False</td>\n",
              "      <td>True</td>\n",
              "    </tr>\n",
              "    <tr>\n",
              "      <th>3</th>\n",
              "      <td>1</td>\n",
              "      <td>0</td>\n",
              "      <td>0</td>\n",
              "      <td>2</td>\n",
              "      <td>0</td>\n",
              "      <td>211</td>\n",
              "      <td>0</td>\n",
              "      <td>0</td>\n",
              "      <td>0</td>\n",
              "      <td>100.00</td>\n",
              "      <td>...</td>\n",
              "      <td>False</td>\n",
              "      <td>False</td>\n",
              "      <td>False</td>\n",
              "      <td>False</td>\n",
              "      <td>False</td>\n",
              "      <td>False</td>\n",
              "      <td>False</td>\n",
              "      <td>False</td>\n",
              "      <td>False</td>\n",
              "      <td>True</td>\n",
              "    </tr>\n",
              "    <tr>\n",
              "      <th>4</th>\n",
              "      <td>1</td>\n",
              "      <td>0</td>\n",
              "      <td>1</td>\n",
              "      <td>2</td>\n",
              "      <td>0</td>\n",
              "      <td>48</td>\n",
              "      <td>0</td>\n",
              "      <td>0</td>\n",
              "      <td>0</td>\n",
              "      <td>77.00</td>\n",
              "      <td>...</td>\n",
              "      <td>False</td>\n",
              "      <td>False</td>\n",
              "      <td>False</td>\n",
              "      <td>False</td>\n",
              "      <td>False</td>\n",
              "      <td>False</td>\n",
              "      <td>False</td>\n",
              "      <td>False</td>\n",
              "      <td>False</td>\n",
              "      <td>True</td>\n",
              "    </tr>\n",
              "    <tr>\n",
              "      <th>...</th>\n",
              "      <td>...</td>\n",
              "      <td>...</td>\n",
              "      <td>...</td>\n",
              "      <td>...</td>\n",
              "      <td>...</td>\n",
              "      <td>...</td>\n",
              "      <td>...</td>\n",
              "      <td>...</td>\n",
              "      <td>...</td>\n",
              "      <td>...</td>\n",
              "      <td>...</td>\n",
              "      <td>...</td>\n",
              "      <td>...</td>\n",
              "      <td>...</td>\n",
              "      <td>...</td>\n",
              "      <td>...</td>\n",
              "      <td>...</td>\n",
              "      <td>...</td>\n",
              "      <td>...</td>\n",
              "      <td>...</td>\n",
              "      <td>...</td>\n",
              "    </tr>\n",
              "    <tr>\n",
              "      <th>36279</th>\n",
              "      <td>2</td>\n",
              "      <td>0</td>\n",
              "      <td>1</td>\n",
              "      <td>1</td>\n",
              "      <td>0</td>\n",
              "      <td>48</td>\n",
              "      <td>0</td>\n",
              "      <td>0</td>\n",
              "      <td>0</td>\n",
              "      <td>94.50</td>\n",
              "      <td>...</td>\n",
              "      <td>False</td>\n",
              "      <td>False</td>\n",
              "      <td>False</td>\n",
              "      <td>False</td>\n",
              "      <td>False</td>\n",
              "      <td>False</td>\n",
              "      <td>False</td>\n",
              "      <td>False</td>\n",
              "      <td>False</td>\n",
              "      <td>True</td>\n",
              "    </tr>\n",
              "    <tr>\n",
              "      <th>36281</th>\n",
              "      <td>2</td>\n",
              "      <td>0</td>\n",
              "      <td>1</td>\n",
              "      <td>3</td>\n",
              "      <td>0</td>\n",
              "      <td>34</td>\n",
              "      <td>0</td>\n",
              "      <td>0</td>\n",
              "      <td>0</td>\n",
              "      <td>107.55</td>\n",
              "      <td>...</td>\n",
              "      <td>False</td>\n",
              "      <td>False</td>\n",
              "      <td>False</td>\n",
              "      <td>False</td>\n",
              "      <td>False</td>\n",
              "      <td>False</td>\n",
              "      <td>False</td>\n",
              "      <td>False</td>\n",
              "      <td>False</td>\n",
              "      <td>True</td>\n",
              "    </tr>\n",
              "    <tr>\n",
              "      <th>36282</th>\n",
              "      <td>2</td>\n",
              "      <td>0</td>\n",
              "      <td>1</td>\n",
              "      <td>3</td>\n",
              "      <td>0</td>\n",
              "      <td>83</td>\n",
              "      <td>0</td>\n",
              "      <td>0</td>\n",
              "      <td>0</td>\n",
              "      <td>105.61</td>\n",
              "      <td>...</td>\n",
              "      <td>False</td>\n",
              "      <td>True</td>\n",
              "      <td>False</td>\n",
              "      <td>False</td>\n",
              "      <td>False</td>\n",
              "      <td>False</td>\n",
              "      <td>False</td>\n",
              "      <td>False</td>\n",
              "      <td>False</td>\n",
              "      <td>True</td>\n",
              "    </tr>\n",
              "    <tr>\n",
              "      <th>36283</th>\n",
              "      <td>3</td>\n",
              "      <td>0</td>\n",
              "      <td>0</td>\n",
              "      <td>4</td>\n",
              "      <td>0</td>\n",
              "      <td>121</td>\n",
              "      <td>0</td>\n",
              "      <td>0</td>\n",
              "      <td>0</td>\n",
              "      <td>96.90</td>\n",
              "      <td>...</td>\n",
              "      <td>False</td>\n",
              "      <td>False</td>\n",
              "      <td>False</td>\n",
              "      <td>False</td>\n",
              "      <td>False</td>\n",
              "      <td>False</td>\n",
              "      <td>False</td>\n",
              "      <td>False</td>\n",
              "      <td>True</td>\n",
              "      <td>False</td>\n",
              "    </tr>\n",
              "    <tr>\n",
              "      <th>36284</th>\n",
              "      <td>2</td>\n",
              "      <td>0</td>\n",
              "      <td>0</td>\n",
              "      <td>5</td>\n",
              "      <td>0</td>\n",
              "      <td>44</td>\n",
              "      <td>0</td>\n",
              "      <td>0</td>\n",
              "      <td>0</td>\n",
              "      <td>133.44</td>\n",
              "      <td>...</td>\n",
              "      <td>False</td>\n",
              "      <td>True</td>\n",
              "      <td>False</td>\n",
              "      <td>False</td>\n",
              "      <td>False</td>\n",
              "      <td>False</td>\n",
              "      <td>False</td>\n",
              "      <td>False</td>\n",
              "      <td>False</td>\n",
              "      <td>True</td>\n",
              "    </tr>\n",
              "  </tbody>\n",
              "</table>\n",
              "<p>34806 rows × 34 columns</p>\n",
              "</div>"
            ],
            "text/plain": [
              "       number of adults  number of children  number of weekend nights  \\\n",
              "0                     1                   1                         2   \n",
              "1                     1                   0                         1   \n",
              "2                     2                   1                         1   \n",
              "3                     1                   0                         0   \n",
              "4                     1                   0                         1   \n",
              "...                 ...                 ...                       ...   \n",
              "36279                 2                   0                         1   \n",
              "36281                 2                   0                         1   \n",
              "36282                 2                   0                         1   \n",
              "36283                 3                   0                         0   \n",
              "36284                 2                   0                         0   \n",
              "\n",
              "       number of week nights  car parking space  lead time  repeated  P-C  \\\n",
              "0                          5                  0        224         0    0   \n",
              "1                          3                  0          5         0    0   \n",
              "2                          3                  0          1         0    0   \n",
              "3                          2                  0        211         0    0   \n",
              "4                          2                  0         48         0    0   \n",
              "...                      ...                ...        ...       ...  ...   \n",
              "36279                      1                  0         48         0    0   \n",
              "36281                      3                  0         34         0    0   \n",
              "36282                      3                  0         83         0    0   \n",
              "36283                      4                  0        121         0    0   \n",
              "36284                      5                  0         44         0    0   \n",
              "\n",
              "       P-not-C  average price  ...  room type_Room_Type 3  \\\n",
              "0            0          88.00  ...                  False   \n",
              "1            0         106.68  ...                  False   \n",
              "2            0          50.00  ...                  False   \n",
              "3            0         100.00  ...                  False   \n",
              "4            0          77.00  ...                  False   \n",
              "...        ...            ...  ...                    ...   \n",
              "36279        0          94.50  ...                  False   \n",
              "36281        0         107.55  ...                  False   \n",
              "36282        0         105.61  ...                  False   \n",
              "36283        0          96.90  ...                  False   \n",
              "36284        0         133.44  ...                  False   \n",
              "\n",
              "       room type_Room_Type 4  room type_Room_Type 5  room type_Room_Type 6  \\\n",
              "0                      False                  False                  False   \n",
              "1                      False                  False                  False   \n",
              "2                      False                  False                  False   \n",
              "3                      False                  False                  False   \n",
              "4                      False                  False                  False   \n",
              "...                      ...                    ...                    ...   \n",
              "36279                  False                  False                  False   \n",
              "36281                  False                  False                  False   \n",
              "36282                   True                  False                  False   \n",
              "36283                  False                  False                  False   \n",
              "36284                   True                  False                  False   \n",
              "\n",
              "       room type_Room_Type 7  market segment type_Aviation  \\\n",
              "0                      False                         False   \n",
              "1                      False                         False   \n",
              "2                      False                         False   \n",
              "3                      False                         False   \n",
              "4                      False                         False   \n",
              "...                      ...                           ...   \n",
              "36279                  False                         False   \n",
              "36281                  False                         False   \n",
              "36282                  False                         False   \n",
              "36283                  False                         False   \n",
              "36284                  False                         False   \n",
              "\n",
              "       market segment type_Complementary  market segment type_Corporate  \\\n",
              "0                                  False                          False   \n",
              "1                                  False                          False   \n",
              "2                                  False                          False   \n",
              "3                                  False                          False   \n",
              "4                                  False                          False   \n",
              "...                                  ...                            ...   \n",
              "36279                              False                          False   \n",
              "36281                              False                          False   \n",
              "36282                              False                          False   \n",
              "36283                              False                          False   \n",
              "36284                              False                          False   \n",
              "\n",
              "       market segment type_Offline  market segment type_Online  \n",
              "0                             True                       False  \n",
              "1                            False                        True  \n",
              "2                            False                        True  \n",
              "3                            False                        True  \n",
              "4                            False                        True  \n",
              "...                            ...                         ...  \n",
              "36279                        False                        True  \n",
              "36281                        False                        True  \n",
              "36282                        False                        True  \n",
              "36283                         True                       False  \n",
              "36284                        False                        True  \n",
              "\n",
              "[34806 rows x 34 columns]"
            ]
          },
          "execution_count": 12,
          "metadata": {},
          "output_type": "execute_result"
        }
      ],
      "source": [
        "encoded_df"
      ]
    },
    {
      "cell_type": "code",
      "execution_count": 13,
      "metadata": {
        "colab": {
          "base_uri": "https://localhost:8080/"
        },
        "id": "hWWl-mJJuHGa",
        "outputId": "e86d1611-ac84-4922-9208-12786517e813"
      },
      "outputs": [
        {
          "data": {
            "text/plain": [
              "number of adults                       int64\n",
              "number of children                     int64\n",
              "number of weekend nights               int64\n",
              "number of week nights                  int64\n",
              "car parking space                      int64\n",
              "lead time                              int64\n",
              "repeated                               int64\n",
              "P-C                                    int64\n",
              "P-not-C                                int64\n",
              "average price                        float64\n",
              "special requests                       int64\n",
              "booking status                         int64\n",
              "reservation_year                     float64\n",
              "reservation_month                    float64\n",
              "reservation_day                      float64\n",
              "reservation_day_of_week              float64\n",
              "is_weekend                             int64\n",
              "stay_duration                          int64\n",
              "total_guests                           int64\n",
              "type of meal_Meal Plan 1                bool\n",
              "type of meal_Meal Plan 2                bool\n",
              "type of meal_Not Selected               bool\n",
              "room type_Room_Type 1                   bool\n",
              "room type_Room_Type 2                   bool\n",
              "room type_Room_Type 3                   bool\n",
              "room type_Room_Type 4                   bool\n",
              "room type_Room_Type 5                   bool\n",
              "room type_Room_Type 6                   bool\n",
              "room type_Room_Type 7                   bool\n",
              "market segment type_Aviation            bool\n",
              "market segment type_Complementary       bool\n",
              "market segment type_Corporate           bool\n",
              "market segment type_Offline             bool\n",
              "market segment type_Online              bool\n",
              "dtype: object"
            ]
          },
          "execution_count": 13,
          "metadata": {},
          "output_type": "execute_result"
        }
      ],
      "source": [
        "encoded_df.dtypes"
      ]
    },
    {
      "cell_type": "code",
      "execution_count": 14,
      "metadata": {
        "colab": {
          "base_uri": "https://localhost:8080/"
        },
        "id": "Ly5e1txgaN0Q",
        "outputId": "32022826-eb2c-4b24-f116-88d7250893ae"
      },
      "outputs": [
        {
          "name": "stdout",
          "output_type": "stream",
          "text": [
            "DataFrame has null values: 0\n"
          ]
        }
      ],
      "source": [
        "num_rows_with_nan = encoded_df.isna().any(axis=1).sum()\n",
        "print(f\"DataFrame has null values: {num_rows_with_nan}\")\n",
        "# if num_rows_with_nan:\n",
        "#   df.dropna(inplace=True)"
      ]
    },
    {
      "cell_type": "markdown",
      "metadata": {
        "id": "eR5UTbLTjSog"
      },
      "source": [
        "#Step 5: **Train Test Split**"
      ]
    },
    {
      "cell_type": "code",
      "execution_count": 15,
      "metadata": {
        "colab": {
          "base_uri": "https://localhost:8080/"
        },
        "id": "-hcaNGmHWnwy",
        "outputId": "41b192e9-6f81-429c-b28a-e4ed030f44ea"
      },
      "outputs": [
        {
          "name": "stdout",
          "output_type": "stream",
          "text": [
            "(34806, 33)\n",
            "(34806,)\n"
          ]
        }
      ],
      "source": [
        "y = df['booking status'].to_numpy()\n",
        "\n",
        "X = np.array(encoded_df.drop(columns='booking status', inplace = False))\n",
        "print(X.shape)\n",
        "print(y.shape)"
      ]
    },
    {
      "cell_type": "code",
      "execution_count": 16,
      "metadata": {
        "id": "OeCvSU7_pVkm"
      },
      "outputs": [],
      "source": [
        "X_train, X_, y_train, y_ = train_test_split(X, y, train_size = 0.8)\n",
        "X_cv, X_test, y_cv, y_test = train_test_split(X_,y_, train_size = 0.5)\n",
        "del(X_,y_)"
      ]
    },
    {
      "cell_type": "code",
      "execution_count": 17,
      "metadata": {
        "colab": {
          "base_uri": "https://localhost:8080/"
        },
        "id": "2mmecSm3rGD5",
        "outputId": "4d4493df-518b-4210-f7cb-94888545b359"
      },
      "outputs": [
        {
          "name": "stdout",
          "output_type": "stream",
          "text": [
            "X train shape:  (27844, 33)\n",
            "y train shape:  (27844,)\n",
            "X CV shape: (3481, 33)\n",
            "X CV shape: (3481,)\n",
            "X test shape: (3481, 33)\n",
            "X test shape: (3481,)\n"
          ]
        }
      ],
      "source": [
        "print(\"X train shape: \",X_train.shape)\n",
        "print(\"y train shape: \",y_train.shape)\n",
        "\n",
        "print(\"X CV shape:\",X_cv.shape)\n",
        "print(\"X CV shape:\",y_cv.shape)\n",
        "\n",
        "print(\"X test shape:\",X_test.shape)\n",
        "print(\"X test shape:\",y_test.shape)\n"
      ]
    },
    {
      "cell_type": "markdown",
      "metadata": {
        "id": "m9uWVFsGOT3S"
      },
      "source": [
        "#Step 6: **Modeling And Accuracy Calculation**"
      ]
    },
    {
      "cell_type": "code",
      "execution_count": 19,
      "metadata": {
        "colab": {
          "base_uri": "https://localhost:8080/",
          "height": 190
        },
        "id": "1i2N5SJwOieB",
        "outputId": "c319e43e-c5ab-4f2b-f3c4-d85a05a44b76"
      },
      "outputs": [
        {
          "name": "stderr",
          "output_type": "stream",
          "text": [
            "c:\\Users\\youss\\AppData\\Local\\Programs\\Python\\Python312\\Lib\\site-packages\\sklearn\\linear_model\\_logistic.py:469: ConvergenceWarning: lbfgs failed to converge (status=1):\n",
            "STOP: TOTAL NO. of ITERATIONS REACHED LIMIT.\n",
            "\n",
            "Increase the number of iterations (max_iter) or scale the data as shown in:\n",
            "    https://scikit-learn.org/stable/modules/preprocessing.html\n",
            "Please also refer to the documentation for alternative solver options:\n",
            "    https://scikit-learn.org/stable/modules/linear_model.html#logistic-regression\n",
            "  n_iter_i = _check_optimize_result(\n"
          ]
        },
        {
          "data": {
            "text/html": [
              "<style>#sk-container-id-1 {\n",
              "  /* Definition of color scheme common for light and dark mode */\n",
              "  --sklearn-color-text: black;\n",
              "  --sklearn-color-line: gray;\n",
              "  /* Definition of color scheme for unfitted estimators */\n",
              "  --sklearn-color-unfitted-level-0: #fff5e6;\n",
              "  --sklearn-color-unfitted-level-1: #f6e4d2;\n",
              "  --sklearn-color-unfitted-level-2: #ffe0b3;\n",
              "  --sklearn-color-unfitted-level-3: chocolate;\n",
              "  /* Definition of color scheme for fitted estimators */\n",
              "  --sklearn-color-fitted-level-0: #f0f8ff;\n",
              "  --sklearn-color-fitted-level-1: #d4ebff;\n",
              "  --sklearn-color-fitted-level-2: #b3dbfd;\n",
              "  --sklearn-color-fitted-level-3: cornflowerblue;\n",
              "\n",
              "  /* Specific color for light theme */\n",
              "  --sklearn-color-text-on-default-background: var(--sg-text-color, var(--theme-code-foreground, var(--jp-content-font-color1, black)));\n",
              "  --sklearn-color-background: var(--sg-background-color, var(--theme-background, var(--jp-layout-color0, white)));\n",
              "  --sklearn-color-border-box: var(--sg-text-color, var(--theme-code-foreground, var(--jp-content-font-color1, black)));\n",
              "  --sklearn-color-icon: #696969;\n",
              "\n",
              "  @media (prefers-color-scheme: dark) {\n",
              "    /* Redefinition of color scheme for dark theme */\n",
              "    --sklearn-color-text-on-default-background: var(--sg-text-color, var(--theme-code-foreground, var(--jp-content-font-color1, white)));\n",
              "    --sklearn-color-background: var(--sg-background-color, var(--theme-background, var(--jp-layout-color0, #111)));\n",
              "    --sklearn-color-border-box: var(--sg-text-color, var(--theme-code-foreground, var(--jp-content-font-color1, white)));\n",
              "    --sklearn-color-icon: #878787;\n",
              "  }\n",
              "}\n",
              "\n",
              "#sk-container-id-1 {\n",
              "  color: var(--sklearn-color-text);\n",
              "}\n",
              "\n",
              "#sk-container-id-1 pre {\n",
              "  padding: 0;\n",
              "}\n",
              "\n",
              "#sk-container-id-1 input.sk-hidden--visually {\n",
              "  border: 0;\n",
              "  clip: rect(1px 1px 1px 1px);\n",
              "  clip: rect(1px, 1px, 1px, 1px);\n",
              "  height: 1px;\n",
              "  margin: -1px;\n",
              "  overflow: hidden;\n",
              "  padding: 0;\n",
              "  position: absolute;\n",
              "  width: 1px;\n",
              "}\n",
              "\n",
              "#sk-container-id-1 div.sk-dashed-wrapped {\n",
              "  border: 1px dashed var(--sklearn-color-line);\n",
              "  margin: 0 0.4em 0.5em 0.4em;\n",
              "  box-sizing: border-box;\n",
              "  padding-bottom: 0.4em;\n",
              "  background-color: var(--sklearn-color-background);\n",
              "}\n",
              "\n",
              "#sk-container-id-1 div.sk-container {\n",
              "  /* jupyter's `normalize.less` sets `[hidden] { display: none; }`\n",
              "     but bootstrap.min.css set `[hidden] { display: none !important; }`\n",
              "     so we also need the `!important` here to be able to override the\n",
              "     default hidden behavior on the sphinx rendered scikit-learn.org.\n",
              "     See: https://github.com/scikit-learn/scikit-learn/issues/21755 */\n",
              "  display: inline-block !important;\n",
              "  position: relative;\n",
              "}\n",
              "\n",
              "#sk-container-id-1 div.sk-text-repr-fallback {\n",
              "  display: none;\n",
              "}\n",
              "\n",
              "div.sk-parallel-item,\n",
              "div.sk-serial,\n",
              "div.sk-item {\n",
              "  /* draw centered vertical line to link estimators */\n",
              "  background-image: linear-gradient(var(--sklearn-color-text-on-default-background), var(--sklearn-color-text-on-default-background));\n",
              "  background-size: 2px 100%;\n",
              "  background-repeat: no-repeat;\n",
              "  background-position: center center;\n",
              "}\n",
              "\n",
              "/* Parallel-specific style estimator block */\n",
              "\n",
              "#sk-container-id-1 div.sk-parallel-item::after {\n",
              "  content: \"\";\n",
              "  width: 100%;\n",
              "  border-bottom: 2px solid var(--sklearn-color-text-on-default-background);\n",
              "  flex-grow: 1;\n",
              "}\n",
              "\n",
              "#sk-container-id-1 div.sk-parallel {\n",
              "  display: flex;\n",
              "  align-items: stretch;\n",
              "  justify-content: center;\n",
              "  background-color: var(--sklearn-color-background);\n",
              "  position: relative;\n",
              "}\n",
              "\n",
              "#sk-container-id-1 div.sk-parallel-item {\n",
              "  display: flex;\n",
              "  flex-direction: column;\n",
              "}\n",
              "\n",
              "#sk-container-id-1 div.sk-parallel-item:first-child::after {\n",
              "  align-self: flex-end;\n",
              "  width: 50%;\n",
              "}\n",
              "\n",
              "#sk-container-id-1 div.sk-parallel-item:last-child::after {\n",
              "  align-self: flex-start;\n",
              "  width: 50%;\n",
              "}\n",
              "\n",
              "#sk-container-id-1 div.sk-parallel-item:only-child::after {\n",
              "  width: 0;\n",
              "}\n",
              "\n",
              "/* Serial-specific style estimator block */\n",
              "\n",
              "#sk-container-id-1 div.sk-serial {\n",
              "  display: flex;\n",
              "  flex-direction: column;\n",
              "  align-items: center;\n",
              "  background-color: var(--sklearn-color-background);\n",
              "  padding-right: 1em;\n",
              "  padding-left: 1em;\n",
              "}\n",
              "\n",
              "\n",
              "/* Toggleable style: style used for estimator/Pipeline/ColumnTransformer box that is\n",
              "clickable and can be expanded/collapsed.\n",
              "- Pipeline and ColumnTransformer use this feature and define the default style\n",
              "- Estimators will overwrite some part of the style using the `sk-estimator` class\n",
              "*/\n",
              "\n",
              "/* Pipeline and ColumnTransformer style (default) */\n",
              "\n",
              "#sk-container-id-1 div.sk-toggleable {\n",
              "  /* Default theme specific background. It is overwritten whether we have a\n",
              "  specific estimator or a Pipeline/ColumnTransformer */\n",
              "  background-color: var(--sklearn-color-background);\n",
              "}\n",
              "\n",
              "/* Toggleable label */\n",
              "#sk-container-id-1 label.sk-toggleable__label {\n",
              "  cursor: pointer;\n",
              "  display: block;\n",
              "  width: 100%;\n",
              "  margin-bottom: 0;\n",
              "  padding: 0.5em;\n",
              "  box-sizing: border-box;\n",
              "  text-align: center;\n",
              "}\n",
              "\n",
              "#sk-container-id-1 label.sk-toggleable__label-arrow:before {\n",
              "  /* Arrow on the left of the label */\n",
              "  content: \"▸\";\n",
              "  float: left;\n",
              "  margin-right: 0.25em;\n",
              "  color: var(--sklearn-color-icon);\n",
              "}\n",
              "\n",
              "#sk-container-id-1 label.sk-toggleable__label-arrow:hover:before {\n",
              "  color: var(--sklearn-color-text);\n",
              "}\n",
              "\n",
              "/* Toggleable content - dropdown */\n",
              "\n",
              "#sk-container-id-1 div.sk-toggleable__content {\n",
              "  max-height: 0;\n",
              "  max-width: 0;\n",
              "  overflow: hidden;\n",
              "  text-align: left;\n",
              "  /* unfitted */\n",
              "  background-color: var(--sklearn-color-unfitted-level-0);\n",
              "}\n",
              "\n",
              "#sk-container-id-1 div.sk-toggleable__content.fitted {\n",
              "  /* fitted */\n",
              "  background-color: var(--sklearn-color-fitted-level-0);\n",
              "}\n",
              "\n",
              "#sk-container-id-1 div.sk-toggleable__content pre {\n",
              "  margin: 0.2em;\n",
              "  border-radius: 0.25em;\n",
              "  color: var(--sklearn-color-text);\n",
              "  /* unfitted */\n",
              "  background-color: var(--sklearn-color-unfitted-level-0);\n",
              "}\n",
              "\n",
              "#sk-container-id-1 div.sk-toggleable__content.fitted pre {\n",
              "  /* unfitted */\n",
              "  background-color: var(--sklearn-color-fitted-level-0);\n",
              "}\n",
              "\n",
              "#sk-container-id-1 input.sk-toggleable__control:checked~div.sk-toggleable__content {\n",
              "  /* Expand drop-down */\n",
              "  max-height: 200px;\n",
              "  max-width: 100%;\n",
              "  overflow: auto;\n",
              "}\n",
              "\n",
              "#sk-container-id-1 input.sk-toggleable__control:checked~label.sk-toggleable__label-arrow:before {\n",
              "  content: \"▾\";\n",
              "}\n",
              "\n",
              "/* Pipeline/ColumnTransformer-specific style */\n",
              "\n",
              "#sk-container-id-1 div.sk-label input.sk-toggleable__control:checked~label.sk-toggleable__label {\n",
              "  color: var(--sklearn-color-text);\n",
              "  background-color: var(--sklearn-color-unfitted-level-2);\n",
              "}\n",
              "\n",
              "#sk-container-id-1 div.sk-label.fitted input.sk-toggleable__control:checked~label.sk-toggleable__label {\n",
              "  background-color: var(--sklearn-color-fitted-level-2);\n",
              "}\n",
              "\n",
              "/* Estimator-specific style */\n",
              "\n",
              "/* Colorize estimator box */\n",
              "#sk-container-id-1 div.sk-estimator input.sk-toggleable__control:checked~label.sk-toggleable__label {\n",
              "  /* unfitted */\n",
              "  background-color: var(--sklearn-color-unfitted-level-2);\n",
              "}\n",
              "\n",
              "#sk-container-id-1 div.sk-estimator.fitted input.sk-toggleable__control:checked~label.sk-toggleable__label {\n",
              "  /* fitted */\n",
              "  background-color: var(--sklearn-color-fitted-level-2);\n",
              "}\n",
              "\n",
              "#sk-container-id-1 div.sk-label label.sk-toggleable__label,\n",
              "#sk-container-id-1 div.sk-label label {\n",
              "  /* The background is the default theme color */\n",
              "  color: var(--sklearn-color-text-on-default-background);\n",
              "}\n",
              "\n",
              "/* On hover, darken the color of the background */\n",
              "#sk-container-id-1 div.sk-label:hover label.sk-toggleable__label {\n",
              "  color: var(--sklearn-color-text);\n",
              "  background-color: var(--sklearn-color-unfitted-level-2);\n",
              "}\n",
              "\n",
              "/* Label box, darken color on hover, fitted */\n",
              "#sk-container-id-1 div.sk-label.fitted:hover label.sk-toggleable__label.fitted {\n",
              "  color: var(--sklearn-color-text);\n",
              "  background-color: var(--sklearn-color-fitted-level-2);\n",
              "}\n",
              "\n",
              "/* Estimator label */\n",
              "\n",
              "#sk-container-id-1 div.sk-label label {\n",
              "  font-family: monospace;\n",
              "  font-weight: bold;\n",
              "  display: inline-block;\n",
              "  line-height: 1.2em;\n",
              "}\n",
              "\n",
              "#sk-container-id-1 div.sk-label-container {\n",
              "  text-align: center;\n",
              "}\n",
              "\n",
              "/* Estimator-specific */\n",
              "#sk-container-id-1 div.sk-estimator {\n",
              "  font-family: monospace;\n",
              "  border: 1px dotted var(--sklearn-color-border-box);\n",
              "  border-radius: 0.25em;\n",
              "  box-sizing: border-box;\n",
              "  margin-bottom: 0.5em;\n",
              "  /* unfitted */\n",
              "  background-color: var(--sklearn-color-unfitted-level-0);\n",
              "}\n",
              "\n",
              "#sk-container-id-1 div.sk-estimator.fitted {\n",
              "  /* fitted */\n",
              "  background-color: var(--sklearn-color-fitted-level-0);\n",
              "}\n",
              "\n",
              "/* on hover */\n",
              "#sk-container-id-1 div.sk-estimator:hover {\n",
              "  /* unfitted */\n",
              "  background-color: var(--sklearn-color-unfitted-level-2);\n",
              "}\n",
              "\n",
              "#sk-container-id-1 div.sk-estimator.fitted:hover {\n",
              "  /* fitted */\n",
              "  background-color: var(--sklearn-color-fitted-level-2);\n",
              "}\n",
              "\n",
              "/* Specification for estimator info (e.g. \"i\" and \"?\") */\n",
              "\n",
              "/* Common style for \"i\" and \"?\" */\n",
              "\n",
              ".sk-estimator-doc-link,\n",
              "a:link.sk-estimator-doc-link,\n",
              "a:visited.sk-estimator-doc-link {\n",
              "  float: right;\n",
              "  font-size: smaller;\n",
              "  line-height: 1em;\n",
              "  font-family: monospace;\n",
              "  background-color: var(--sklearn-color-background);\n",
              "  border-radius: 1em;\n",
              "  height: 1em;\n",
              "  width: 1em;\n",
              "  text-decoration: none !important;\n",
              "  margin-left: 1ex;\n",
              "  /* unfitted */\n",
              "  border: var(--sklearn-color-unfitted-level-1) 1pt solid;\n",
              "  color: var(--sklearn-color-unfitted-level-1);\n",
              "}\n",
              "\n",
              ".sk-estimator-doc-link.fitted,\n",
              "a:link.sk-estimator-doc-link.fitted,\n",
              "a:visited.sk-estimator-doc-link.fitted {\n",
              "  /* fitted */\n",
              "  border: var(--sklearn-color-fitted-level-1) 1pt solid;\n",
              "  color: var(--sklearn-color-fitted-level-1);\n",
              "}\n",
              "\n",
              "/* On hover */\n",
              "div.sk-estimator:hover .sk-estimator-doc-link:hover,\n",
              ".sk-estimator-doc-link:hover,\n",
              "div.sk-label-container:hover .sk-estimator-doc-link:hover,\n",
              ".sk-estimator-doc-link:hover {\n",
              "  /* unfitted */\n",
              "  background-color: var(--sklearn-color-unfitted-level-3);\n",
              "  color: var(--sklearn-color-background);\n",
              "  text-decoration: none;\n",
              "}\n",
              "\n",
              "div.sk-estimator.fitted:hover .sk-estimator-doc-link.fitted:hover,\n",
              ".sk-estimator-doc-link.fitted:hover,\n",
              "div.sk-label-container:hover .sk-estimator-doc-link.fitted:hover,\n",
              ".sk-estimator-doc-link.fitted:hover {\n",
              "  /* fitted */\n",
              "  background-color: var(--sklearn-color-fitted-level-3);\n",
              "  color: var(--sklearn-color-background);\n",
              "  text-decoration: none;\n",
              "}\n",
              "\n",
              "/* Span, style for the box shown on hovering the info icon */\n",
              ".sk-estimator-doc-link span {\n",
              "  display: none;\n",
              "  z-index: 9999;\n",
              "  position: relative;\n",
              "  font-weight: normal;\n",
              "  right: .2ex;\n",
              "  padding: .5ex;\n",
              "  margin: .5ex;\n",
              "  width: min-content;\n",
              "  min-width: 20ex;\n",
              "  max-width: 50ex;\n",
              "  color: var(--sklearn-color-text);\n",
              "  box-shadow: 2pt 2pt 4pt #999;\n",
              "  /* unfitted */\n",
              "  background: var(--sklearn-color-unfitted-level-0);\n",
              "  border: .5pt solid var(--sklearn-color-unfitted-level-3);\n",
              "}\n",
              "\n",
              ".sk-estimator-doc-link.fitted span {\n",
              "  /* fitted */\n",
              "  background: var(--sklearn-color-fitted-level-0);\n",
              "  border: var(--sklearn-color-fitted-level-3);\n",
              "}\n",
              "\n",
              ".sk-estimator-doc-link:hover span {\n",
              "  display: block;\n",
              "}\n",
              "\n",
              "/* \"?\"-specific style due to the `<a>` HTML tag */\n",
              "\n",
              "#sk-container-id-1 a.estimator_doc_link {\n",
              "  float: right;\n",
              "  font-size: 1rem;\n",
              "  line-height: 1em;\n",
              "  font-family: monospace;\n",
              "  background-color: var(--sklearn-color-background);\n",
              "  border-radius: 1rem;\n",
              "  height: 1rem;\n",
              "  width: 1rem;\n",
              "  text-decoration: none;\n",
              "  /* unfitted */\n",
              "  color: var(--sklearn-color-unfitted-level-1);\n",
              "  border: var(--sklearn-color-unfitted-level-1) 1pt solid;\n",
              "}\n",
              "\n",
              "#sk-container-id-1 a.estimator_doc_link.fitted {\n",
              "  /* fitted */\n",
              "  border: var(--sklearn-color-fitted-level-1) 1pt solid;\n",
              "  color: var(--sklearn-color-fitted-level-1);\n",
              "}\n",
              "\n",
              "/* On hover */\n",
              "#sk-container-id-1 a.estimator_doc_link:hover {\n",
              "  /* unfitted */\n",
              "  background-color: var(--sklearn-color-unfitted-level-3);\n",
              "  color: var(--sklearn-color-background);\n",
              "  text-decoration: none;\n",
              "}\n",
              "\n",
              "#sk-container-id-1 a.estimator_doc_link.fitted:hover {\n",
              "  /* fitted */\n",
              "  background-color: var(--sklearn-color-fitted-level-3);\n",
              "}\n",
              "</style><div id=\"sk-container-id-1\" class=\"sk-top-container\"><div class=\"sk-text-repr-fallback\"><pre>LogisticRegression()</pre><b>In a Jupyter environment, please rerun this cell to show the HTML representation or trust the notebook. <br />On GitHub, the HTML representation is unable to render, please try loading this page with nbviewer.org.</b></div><div class=\"sk-container\" hidden><div class=\"sk-item\"><div class=\"sk-estimator fitted sk-toggleable\"><input class=\"sk-toggleable__control sk-hidden--visually\" id=\"sk-estimator-id-1\" type=\"checkbox\" checked><label for=\"sk-estimator-id-1\" class=\"sk-toggleable__label fitted sk-toggleable__label-arrow fitted\">&nbsp;&nbsp;LogisticRegression<a class=\"sk-estimator-doc-link fitted\" rel=\"noreferrer\" target=\"_blank\" href=\"https://scikit-learn.org/1.4/modules/generated/sklearn.linear_model.LogisticRegression.html\">?<span>Documentation for LogisticRegression</span></a><span class=\"sk-estimator-doc-link fitted\">i<span>Fitted</span></span></label><div class=\"sk-toggleable__content fitted\"><pre>LogisticRegression()</pre></div> </div></div></div></div>"
            ],
            "text/plain": [
              "LogisticRegression()"
            ]
          },
          "execution_count": 19,
          "metadata": {},
          "output_type": "execute_result"
        }
      ],
      "source": [
        "lr_model = LogisticRegression()\n",
        "lr_model.fit(X_train,y_train)"
      ]
    },
    {
      "cell_type": "markdown",
      "metadata": {
        "id": "Kt1lI5vsdHyK"
      },
      "source": [
        "For a simple model without any scaling or polynomial features the Score is as following:"
      ]
    },
    {
      "cell_type": "code",
      "execution_count": 22,
      "metadata": {
        "colab": {
          "base_uri": "https://localhost:8080/"
        },
        "id": "TWWmHdSkQPAU",
        "outputId": "8215ce5a-648c-492b-d6fe-7466d9d60377"
      },
      "outputs": [
        {
          "name": "stdout",
          "output_type": "stream",
          "text": [
            "Accuracy on training set: 0.7949288895273667\n"
          ]
        }
      ],
      "source": [
        "\n",
        "yhat = lr_model.predict(X_train)\n",
        "print(\"Accuracy on training set:\", lr_model.score(X_train,y_train))"
      ]
    },
    {
      "cell_type": "markdown",
      "metadata": {
        "id": "EgmZ1s4edSXX"
      },
      "source": [
        "With adding Scaling and polynomial features:"
      ]
    },
    {
      "cell_type": "code",
      "execution_count": 24,
      "metadata": {
        "id": "1urA2ComdCRB"
      },
      "outputs": [],
      "source": [
        "#Add polynomial feature\n",
        "poly = PolynomialFeatures(degree=3, include_bias=False)\n",
        "X_train_mapped = poly.fit_transform(X_train)\n",
        "X_cv_mapped = poly.transform(X_cv)\n",
        "X_test_mapped = poly.transform(X_test)"
      ]
    },
    {
      "cell_type": "code",
      "execution_count": 25,
      "metadata": {
        "id": "JtGutcOie87O"
      },
      "outputs": [],
      "source": [
        "# Scale the features using the z-score\n",
        "scaler = StandardScaler()\n",
        "X_train_mapped_scaled = scaler.fit_transform(X_train_mapped)\n",
        "X_cv_mapped_scaled = scaler.transform(X_cv_mapped)\n",
        "X_test_mapped_scaled = scaler.transform(X_test_mapped)"
      ]
    },
    {
      "cell_type": "code",
      "execution_count": 30,
      "metadata": {
        "colab": {
          "base_uri": "https://localhost:8080/"
        },
        "id": "aiT3uCe9fYSt",
        "outputId": "59f14524-dfcc-4466-c522-4197623bc4c7"
      },
      "outputs": [
        {
          "name": "stderr",
          "output_type": "stream",
          "text": [
            "c:\\Users\\youss\\AppData\\Local\\Programs\\Python\\Python312\\Lib\\site-packages\\sklearn\\linear_model\\_logistic.py:469: ConvergenceWarning: lbfgs failed to converge (status=1):\n",
            "STOP: TOTAL NO. of ITERATIONS REACHED LIMIT.\n",
            "\n",
            "Increase the number of iterations (max_iter) or scale the data as shown in:\n",
            "    https://scikit-learn.org/stable/modules/preprocessing.html\n",
            "Please also refer to the documentation for alternative solver options:\n",
            "    https://scikit-learn.org/stable/modules/linear_model.html#logistic-regression\n",
            "  n_iter_i = _check_optimize_result(\n"
          ]
        },
        {
          "name": "stdout",
          "output_type": "stream",
          "text": [
            "Training error:  0.07852679212756788\n",
            "Cross-Validation error:  0.08330939385234128\n",
            "Accuracy on training set: 0.8287848319448434\n"
          ]
        }
      ],
      "source": [
        "newModel = LogisticRegression()\n",
        "newModel.fit(X_train_mapped_scaled,y_train)\n",
        "\n",
        "yhat = newModel.predict(X_train_mapped_scaled)\n",
        "print(\"Training error: \", mean_squared_error(y_train,yhat) / 2)\n",
        "\n",
        "yhat = newModel.predict(X_cv_mapped_scaled)\n",
        "print(\"Cross-Validation error: \", mean_squared_error(y_cv,yhat) / 2)\n",
        "\n",
        "print(\"Accuracy on training set:\", newModel.score(X_test_mapped_scaled,y_test))\n"
      ]
    },
    {
      "cell_type": "code",
      "execution_count": 37,
      "metadata": {
        "colab": {
          "base_uri": "https://localhost:8080/"
        },
        "id": "VDOVnY-DhIDj",
        "outputId": "7dcd2896-c35b-43e7-fd9b-c7d01f8a2500"
      },
      "outputs": [
        {
          "name": "stderr",
          "output_type": "stream",
          "text": [
            "c:\\Users\\youss\\AppData\\Local\\Programs\\Python\\Python312\\Lib\\site-packages\\sklearn\\linear_model\\_logistic.py:469: ConvergenceWarning: lbfgs failed to converge (status=1):\n",
            "STOP: TOTAL NO. of ITERATIONS REACHED LIMIT.\n",
            "\n",
            "Increase the number of iterations (max_iter) or scale the data as shown in:\n",
            "    https://scikit-learn.org/stable/modules/preprocessing.html\n",
            "Please also refer to the documentation for alternative solver options:\n",
            "    https://scikit-learn.org/stable/modules/linear_model.html#logistic-regression\n",
            "  n_iter_i = _check_optimize_result(\n",
            "c:\\Users\\youss\\AppData\\Local\\Programs\\Python\\Python312\\Lib\\site-packages\\sklearn\\linear_model\\_logistic.py:469: ConvergenceWarning: lbfgs failed to converge (status=1):\n",
            "STOP: TOTAL NO. of ITERATIONS REACHED LIMIT.\n",
            "\n",
            "Increase the number of iterations (max_iter) or scale the data as shown in:\n",
            "    https://scikit-learn.org/stable/modules/preprocessing.html\n",
            "Please also refer to the documentation for alternative solver options:\n",
            "    https://scikit-learn.org/stable/modules/linear_model.html#logistic-regression\n",
            "  n_iter_i = _check_optimize_result(\n",
            "c:\\Users\\youss\\AppData\\Local\\Programs\\Python\\Python312\\Lib\\site-packages\\sklearn\\linear_model\\_logistic.py:469: ConvergenceWarning: lbfgs failed to converge (status=1):\n",
            "STOP: TOTAL NO. of ITERATIONS REACHED LIMIT.\n",
            "\n",
            "Increase the number of iterations (max_iter) or scale the data as shown in:\n",
            "    https://scikit-learn.org/stable/modules/preprocessing.html\n",
            "Please also refer to the documentation for alternative solver options:\n",
            "    https://scikit-learn.org/stable/modules/linear_model.html#logistic-regression\n",
            "  n_iter_i = _check_optimize_result(\n"
          ]
        }
      ],
      "source": [
        "models=[]\n",
        "polys=[]\n",
        "scalers=[]\n",
        "train_mses=[]\n",
        "cv_mses=[]\n",
        "\n",
        "for degree in range(1,5):\n",
        "  #Poly\n",
        "  poly=PolynomialFeatures(degree=degree,include_bias=False)\n",
        "  X_train_mapped = poly.fit_transform(X_train)\n",
        "  polys.append(poly)\n",
        "\n",
        "  #Scaler\n",
        "  scaler=StandardScaler()\n",
        "  X_train_mapped_scaled = scaler.fit_transform(X_train_mapped)\n",
        "  scalers.append(scaler)\n",
        "\n",
        "  #Model\n",
        "  model = LogisticRegression()\n",
        "  model.fit(X_train_mapped_scaled,y_train)\n",
        "  models.append(model)\n",
        "\n",
        "  #Training_mse\n",
        "  yhat=model.predict(X_train_mapped_scaled)\n",
        "  train_mse = mean_squared_error(y_train,yhat) / 2\n",
        "  train_mses.append(train_mse)\n",
        "\n",
        "\n",
        "  #poly, scaler CV\n",
        "  X_cv_mapped = poly.transform(X_cv)\n",
        "  X_cv_mapped_scaled = scaler.transform(X_cv_mapped)\n",
        "\n",
        "  #CV_mse\n",
        "  yhat=model.predict(X_cv_mapped_scaled)\n",
        "  cv_mse = mean_squared_error(y_cv,yhat) / 2\n",
        "  cv_mses.append(cv_mse)"
      ]
    },
    {
      "cell_type": "code",
      "execution_count": 38,
      "metadata": {
        "id": "WuPTUXuNnB7W"
      },
      "outputs": [
        {
          "name": "stdout",
          "output_type": "stream",
          "text": [
            "Lowest CV MSE is found in the model with degree= 4\n"
          ]
        }
      ],
      "source": [
        "degree = np.argmin(cv_mses) + 1\n",
        "print(f\"Lowest CV MSE is found in the model with degree= {degree}\")"
      ]
    },
    {
      "cell_type": "code",
      "execution_count": 19,
      "metadata": {
        "id": "ihrp_dELlSdx"
      },
      "outputs": [
        {
          "ename": "NameError",
          "evalue": "name 'polys' is not defined",
          "output_type": "error",
          "traceback": [
            "\u001b[1;31m---------------------------------------------------------------------------\u001b[0m",
            "\u001b[1;31mNameError\u001b[0m                                 Traceback (most recent call last)",
            "Cell \u001b[1;32mIn[19], line 2\u001b[0m\n\u001b[0;32m      1\u001b[0m \u001b[38;5;66;03m# Add polynomial features to the test set\u001b[39;00m\n\u001b[1;32m----> 2\u001b[0m X_test_mapped \u001b[38;5;241m=\u001b[39m \u001b[43mpolys\u001b[49m[degree\u001b[38;5;241m-\u001b[39m\u001b[38;5;241m1\u001b[39m]\u001b[38;5;241m.\u001b[39mtransform(X_test)\n\u001b[0;32m      4\u001b[0m \u001b[38;5;66;03m# Scale the test set\u001b[39;00m\n\u001b[0;32m      5\u001b[0m X_test_mapped_scaled \u001b[38;5;241m=\u001b[39m scalers[degree\u001b[38;5;241m-\u001b[39m\u001b[38;5;241m1\u001b[39m]\u001b[38;5;241m.\u001b[39mtransform(X_test_mapped)\n",
            "\u001b[1;31mNameError\u001b[0m: name 'polys' is not defined"
          ]
        }
      ],
      "source": [
        "# Add polynomial features to the test set\n",
        "X_test_mapped = polys[degree-1].transform(X_test)\n",
        "\n",
        "# Scale the test set\n",
        "X_test_mapped_scaled = scalers[degree-1].transform(X_test_mapped)\n",
        "\n",
        "# Compute the test MSE\n",
        "yhat = models[degree-1].predict(X_test_mapped_scaled)\n",
        "test_mse = mean_squared_error(y_test, yhat) / 2\n",
        "\n",
        "print(f\"Training MSE: {train_mses[degree-1]:.2f}\")\n",
        "print(f\"Cross Validation MSE: {cv_mses[degree-1]:.2f}\")\n",
        "print(f\"Test MSE: {test_mse:.2f}\")"
      ]
    },
    {
      "cell_type": "code",
      "execution_count": 40,
      "metadata": {},
      "outputs": [],
      "source": [
        "mymodel = models[degree-1]"
      ]
    },
    {
      "cell_type": "code",
      "execution_count": 41,
      "metadata": {},
      "outputs": [
        {
          "data": {
            "text/plain": [
              "0.8550854762246803"
            ]
          },
          "execution_count": 41,
          "metadata": {},
          "output_type": "execute_result"
        }
      ],
      "source": [
        "mymodel.score(X_train_mapped_scaled,y_train)"
      ]
    },
    {
      "cell_type": "markdown",
      "metadata": {},
      "source": [
        "# ***Decision Tree***"
      ]
    },
    {
      "cell_type": "code",
      "execution_count": 25,
      "metadata": {},
      "outputs": [
        {
          "name": "stdout",
          "output_type": "stream",
          "text": [
            "Accuracy: 0.9942536991811521\n",
            "              precision    recall  f1-score   support\n",
            "\n",
            "           0       0.78      0.80      0.79      1130\n",
            "           1       0.90      0.89      0.90      2351\n",
            "\n",
            "    accuracy                           0.86      3481\n",
            "   macro avg       0.84      0.84      0.84      3481\n",
            "weighted avg       0.86      0.86      0.86      3481\n",
            "\n"
          ]
        }
      ],
      "source": [
        "clf = DecisionTreeClassifier()\n",
        "clf.fit(X_train_mapped_scaled, y_train)\n",
        "treePrediction = clf.predict(X_train_mapped_scaled)\n",
        "print(\"Accuracy:\", clf.score(X_train_mapped_scaled,y_train))\n",
        "ypred = clf.predict(X_test_mapped_scaled)\n",
        "print(classification_report(y_test,ypred))"
      ]
    },
    {
      "cell_type": "markdown",
      "metadata": {},
      "source": [
        "# ***Gradient Boosting Classifier***"
      ]
    },
    {
      "cell_type": "code",
      "execution_count": 39,
      "metadata": {},
      "outputs": [],
      "source": [
        "clf2 = GradientBoostingClassifier(n_estimators=100, learning_rate=0.1,\n",
        "    max_depth=15, random_state=0).fit(X_train_mapped_scaled, y_train)"
      ]
    },
    {
      "cell_type": "code",
      "execution_count": null,
      "metadata": {},
      "outputs": [
        {
          "name": "stdout",
          "output_type": "stream",
          "text": [
            "Accuracy:  0.843723068083884\n",
            "              precision    recall  f1-score   support\n",
            "\n",
            "           0       0.79      0.71      0.75      1130\n",
            "           1       0.87      0.91      0.89      2351\n",
            "\n",
            "    accuracy                           0.84      3481\n",
            "   macro avg       0.83      0.81      0.82      3481\n",
            "weighted avg       0.84      0.84      0.84      3481\n",
            "\n"
          ]
        }
      ],
      "source": [
        "# Accuracy calculation\n",
        "ypred = clf2.predict(X_test_mapped_scaled)\n",
        "print(\"Accuracy: \",accuracy_score(y_test,ypred))\n",
        "print(classification_report(y_test,ypred))\n"
      ]
    },
    {
      "cell_type": "markdown",
      "metadata": {},
      "source": [
        "# ***Random Forest Classifier***"
      ]
    },
    {
      "cell_type": "code",
      "execution_count": 26,
      "metadata": {},
      "outputs": [
        {
          "name": "stdout",
          "output_type": "stream",
          "text": [
            "Accuracy:  0.8939959781671933\n",
            "              precision    recall  f1-score   support\n",
            "\n",
            "           0       0.87      0.79      0.83      1133\n",
            "           1       0.90      0.95      0.92      2348\n",
            "\n",
            "    accuracy                           0.89      3481\n",
            "   macro avg       0.89      0.87      0.88      3481\n",
            "weighted avg       0.89      0.89      0.89      3481\n",
            "\n"
          ]
        }
      ],
      "source": [
        "rfc = RandomForestClassifier()\n",
        "rfc.fit(X_train_mapped_scaled,y_train)\n",
        "y_pred = rfc.predict(X_test_mapped_scaled)\n",
        "# Accuracy calculation\n",
        "accuracy = accuracy_score(y_test, y_pred)\n",
        "print(f'Accuracy: ', accuracy_score(y_test, y_pred))\n",
        "print(classification_report(y_test, y_pred))\n"
      ]
    },
    {
      "cell_type": "code",
      "execution_count": 30,
      "metadata": {},
      "outputs": [],
      "source": [
        "with open('model.pkl', 'wb') as f:  # open a text file\n",
        "    pickle.dump(rfc, f) # serialize the list"
      ]
    },
    {
      "cell_type": "code",
      "execution_count": 31,
      "metadata": {},
      "outputs": [],
      "source": [
        "with open('model.pkl', 'rb') as f:\n",
        "\n",
        "    pmodel = pickle.load(f) # deserialize using load()\n"
      ]
    },
    {
      "cell_type": "code",
      "execution_count": 33,
      "metadata": {},
      "outputs": [
        {
          "data": {
            "text/plain": [
              "array([1, 0, 1, ..., 1, 1, 1], dtype=int64)"
            ]
          },
          "execution_count": 33,
          "metadata": {},
          "output_type": "execute_result"
        }
      ],
      "source": [
        "xyz = pmodel.predict(X_test_mapped_scaled)\n",
        "xyz\n"
      ]
    },
    {
      "cell_type": "code",
      "execution_count": null,
      "metadata": {},
      "outputs": [],
      "source": []
    }
  ],
  "metadata": {
    "colab": {
      "provenance": []
    },
    "kernelspec": {
      "display_name": "Python 3",
      "name": "python3"
    },
    "language_info": {
      "codemirror_mode": {
        "name": "ipython",
        "version": 3
      },
      "file_extension": ".py",
      "mimetype": "text/x-python",
      "name": "python",
      "nbconvert_exporter": "python",
      "pygments_lexer": "ipython3",
      "version": "3.12.1"
    }
  },
  "nbformat": 4,
  "nbformat_minor": 0
}
