{
  "cells": [
    {
      "cell_type": "markdown",
      "metadata": {
        "id": "O-XXXLazIRlJ"
      },
      "source": [
        "| Column Name         | Description                                                                                     |\n",
        "|---------------------|-------------------------------------------------------------------------------------------------|\n",
        "| Booking_ID | Unique identifier for each booking.                                                               |\n",
        "| number of adults           | The count of adult guests in the booking.                                                                              |\n",
        "| number of children         |The count of child guests in the booking.                                                                            |\n",
        "| number of weekend nights       | The number of nights during the weekend (typically Friday and Saturday nights).                                             |\n",
        "| number of week nights             | The number of nights during the weekdays (Sunday through Thursday nights).                         |\n",
        "| type of meal   | The meal plan included in the booking.                      |\n",
        "| car parking space                 | Whether the booking includes a parking space for a car.                                                            |\n",
        "| room type         | The type of room booked.                                                          |\n",
        "| lead time     | Number of days that elapsed between date of the booking into the PMS and the arrival date                                                           |\n",
        "| market segment type    | The market segment the booking belongs to                                                   |\n",
        "| repeated     | Indicates whether the booking is a repeat booking.                                                    |\n",
        "| P-C   | Probability of Cancelation - The likelihood that the booking will be canceled.                                                  |\n",
        "| P-not-C    | Probability of Not Cancelation - The likelihood that the booking will not be canceled.                                                   |\n",
        "| average price      | The average price per night for the booking.                                                              |\n",
        "| special requests                | Any additional requests or requirements made by the guest.                                                         |\n",
        "| date of reservation                 | Date when the booking was made.                                                        |\n",
        "| booking status               | The current status of the booking (e.g., confirmed, canceled, pending).                                                                   |\n"
      ]
    },
    {
      "cell_type": "code",
      "execution_count": 618,
      "metadata": {
        "id": "SETSU4MvKO3M"
      },
      "outputs": [],
      "source": [
        "import pandas as pd\n",
        "import numpy as np\n",
        "import pickle\n",
        "\n",
        "import seaborn as sns\n",
        "import matplotlib.pyplot as plt\n",
        "\n",
        "from xgboost import XGBClassifier\n",
        "from sklearn.preprocessing import StandardScaler, PolynomialFeatures, LabelEncoder, MinMaxScaler\n",
        "from sklearn.feature_selection import SelectKBest, f_classif\n",
        "from sklearn.compose import ColumnTransformer\n",
        "from sklearn.pipeline import Pipeline\n",
        "from sklearn.model_selection import train_test_split\n",
        "from sklearn.metrics import mean_squared_error, f1_score, accuracy_score, classification_report\n",
        "from sklearn.ensemble import  RandomForestClassifier\n",
        "from sklearn.model_selection import RandomizedSearchCV\n",
        "\n",
        "\n",
        "from scipy.stats import zscore, skew, randint, uniform\n",
        "\n",
        "\n"
      ]
    },
    {
      "cell_type": "markdown",
      "metadata": {
        "id": "2jMROl6OQk2D"
      },
      "source": [
        "# Step 1 **Data Preprocessing**"
      ]
    },
    {
      "cell_type": "code",
      "execution_count": 644,
      "metadata": {
        "colab": {
          "base_uri": "https://localhost:8080/",
          "height": 669
        },
        "id": "BMFdeP6OQhN5",
        "outputId": "8c76e625-38ae-4568-9457-dc7d7c29289b"
      },
      "outputs": [],
      "source": [
        "df = pd.read_csv(r\"C:\\Users\\youss\\Desktop\\eng\\Machine_learning_course\\Cellula technologies\\first inten project.csv\")\n",
        "df1 = df.copy()\n",
        "df2 = df.copy()"
      ]
    },
    {
      "cell_type": "code",
      "execution_count": 645,
      "metadata": {
        "colab": {
          "base_uri": "https://localhost:8080/",
          "height": 355
        },
        "id": "NgjEYw5NQ3Jr",
        "outputId": "8da09f91-4d70-4792-b584-e8436c92d319"
      },
      "outputs": [
        {
          "data": {
            "text/html": [
              "<div>\n",
              "<style scoped>\n",
              "    .dataframe tbody tr th:only-of-type {\n",
              "        vertical-align: middle;\n",
              "    }\n",
              "\n",
              "    .dataframe tbody tr th {\n",
              "        vertical-align: top;\n",
              "    }\n",
              "\n",
              "    .dataframe thead th {\n",
              "        text-align: right;\n",
              "    }\n",
              "</style>\n",
              "<table border=\"1\" class=\"dataframe\">\n",
              "  <thead>\n",
              "    <tr style=\"text-align: right;\">\n",
              "      <th></th>\n",
              "      <th>number of adults</th>\n",
              "      <th>number of children</th>\n",
              "      <th>number of weekend nights</th>\n",
              "      <th>number of week nights</th>\n",
              "      <th>car parking space</th>\n",
              "      <th>lead time</th>\n",
              "      <th>repeated</th>\n",
              "      <th>P-C</th>\n",
              "      <th>P-not-C</th>\n",
              "      <th>average price</th>\n",
              "      <th>special requests</th>\n",
              "    </tr>\n",
              "  </thead>\n",
              "  <tbody>\n",
              "    <tr>\n",
              "      <th>count</th>\n",
              "      <td>36285.000000</td>\n",
              "      <td>36285.000000</td>\n",
              "      <td>36285.000000</td>\n",
              "      <td>36285.000000</td>\n",
              "      <td>36285.000000</td>\n",
              "      <td>36285.000000</td>\n",
              "      <td>36285.000000</td>\n",
              "      <td>36285.000000</td>\n",
              "      <td>36285.000000</td>\n",
              "      <td>36285.000000</td>\n",
              "      <td>36285.000000</td>\n",
              "    </tr>\n",
              "    <tr>\n",
              "      <th>mean</th>\n",
              "      <td>1.844839</td>\n",
              "      <td>0.105360</td>\n",
              "      <td>0.810693</td>\n",
              "      <td>2.204602</td>\n",
              "      <td>0.030977</td>\n",
              "      <td>85.239851</td>\n",
              "      <td>0.025630</td>\n",
              "      <td>0.023343</td>\n",
              "      <td>0.153369</td>\n",
              "      <td>103.421636</td>\n",
              "      <td>0.619733</td>\n",
              "    </tr>\n",
              "    <tr>\n",
              "      <th>std</th>\n",
              "      <td>0.518813</td>\n",
              "      <td>0.402704</td>\n",
              "      <td>0.870590</td>\n",
              "      <td>1.410946</td>\n",
              "      <td>0.173258</td>\n",
              "      <td>85.938796</td>\n",
              "      <td>0.158032</td>\n",
              "      <td>0.368281</td>\n",
              "      <td>1.753931</td>\n",
              "      <td>35.086469</td>\n",
              "      <td>0.786262</td>\n",
              "    </tr>\n",
              "    <tr>\n",
              "      <th>min</th>\n",
              "      <td>0.000000</td>\n",
              "      <td>0.000000</td>\n",
              "      <td>0.000000</td>\n",
              "      <td>0.000000</td>\n",
              "      <td>0.000000</td>\n",
              "      <td>0.000000</td>\n",
              "      <td>0.000000</td>\n",
              "      <td>0.000000</td>\n",
              "      <td>0.000000</td>\n",
              "      <td>0.000000</td>\n",
              "      <td>0.000000</td>\n",
              "    </tr>\n",
              "    <tr>\n",
              "      <th>25%</th>\n",
              "      <td>2.000000</td>\n",
              "      <td>0.000000</td>\n",
              "      <td>0.000000</td>\n",
              "      <td>1.000000</td>\n",
              "      <td>0.000000</td>\n",
              "      <td>17.000000</td>\n",
              "      <td>0.000000</td>\n",
              "      <td>0.000000</td>\n",
              "      <td>0.000000</td>\n",
              "      <td>80.300000</td>\n",
              "      <td>0.000000</td>\n",
              "    </tr>\n",
              "    <tr>\n",
              "      <th>50%</th>\n",
              "      <td>2.000000</td>\n",
              "      <td>0.000000</td>\n",
              "      <td>1.000000</td>\n",
              "      <td>2.000000</td>\n",
              "      <td>0.000000</td>\n",
              "      <td>57.000000</td>\n",
              "      <td>0.000000</td>\n",
              "      <td>0.000000</td>\n",
              "      <td>0.000000</td>\n",
              "      <td>99.450000</td>\n",
              "      <td>0.000000</td>\n",
              "    </tr>\n",
              "    <tr>\n",
              "      <th>75%</th>\n",
              "      <td>2.000000</td>\n",
              "      <td>0.000000</td>\n",
              "      <td>2.000000</td>\n",
              "      <td>3.000000</td>\n",
              "      <td>0.000000</td>\n",
              "      <td>126.000000</td>\n",
              "      <td>0.000000</td>\n",
              "      <td>0.000000</td>\n",
              "      <td>0.000000</td>\n",
              "      <td>120.000000</td>\n",
              "      <td>1.000000</td>\n",
              "    </tr>\n",
              "    <tr>\n",
              "      <th>max</th>\n",
              "      <td>4.000000</td>\n",
              "      <td>10.000000</td>\n",
              "      <td>7.000000</td>\n",
              "      <td>17.000000</td>\n",
              "      <td>1.000000</td>\n",
              "      <td>443.000000</td>\n",
              "      <td>1.000000</td>\n",
              "      <td>13.000000</td>\n",
              "      <td>58.000000</td>\n",
              "      <td>540.000000</td>\n",
              "      <td>5.000000</td>\n",
              "    </tr>\n",
              "  </tbody>\n",
              "</table>\n",
              "</div>"
            ],
            "text/plain": [
              "       number of adults  number of children  number of weekend nights  \\\n",
              "count      36285.000000        36285.000000              36285.000000   \n",
              "mean           1.844839            0.105360                  0.810693   \n",
              "std            0.518813            0.402704                  0.870590   \n",
              "min            0.000000            0.000000                  0.000000   \n",
              "25%            2.000000            0.000000                  0.000000   \n",
              "50%            2.000000            0.000000                  1.000000   \n",
              "75%            2.000000            0.000000                  2.000000   \n",
              "max            4.000000           10.000000                  7.000000   \n",
              "\n",
              "       number of week nights  car parking space     lead time      repeated  \\\n",
              "count           36285.000000       36285.000000  36285.000000  36285.000000   \n",
              "mean                2.204602           0.030977     85.239851      0.025630   \n",
              "std                 1.410946           0.173258     85.938796      0.158032   \n",
              "min                 0.000000           0.000000      0.000000      0.000000   \n",
              "25%                 1.000000           0.000000     17.000000      0.000000   \n",
              "50%                 2.000000           0.000000     57.000000      0.000000   \n",
              "75%                 3.000000           0.000000    126.000000      0.000000   \n",
              "max                17.000000           1.000000    443.000000      1.000000   \n",
              "\n",
              "                P-C       P-not-C  average price  special requests  \n",
              "count  36285.000000  36285.000000   36285.000000      36285.000000  \n",
              "mean       0.023343      0.153369     103.421636          0.619733  \n",
              "std        0.368281      1.753931      35.086469          0.786262  \n",
              "min        0.000000      0.000000       0.000000          0.000000  \n",
              "25%        0.000000      0.000000      80.300000          0.000000  \n",
              "50%        0.000000      0.000000      99.450000          0.000000  \n",
              "75%        0.000000      0.000000     120.000000          1.000000  \n",
              "max       13.000000     58.000000     540.000000          5.000000  "
            ]
          },
          "execution_count": 645,
          "metadata": {},
          "output_type": "execute_result"
        }
      ],
      "source": [
        "df.rename(columns ={\"average price \" : \"average price\" }, inplace= True)    # for the extra white space\n",
        "df.describe()"
      ]
    },
    {
      "cell_type": "code",
      "execution_count": 646,
      "metadata": {},
      "outputs": [
        {
          "data": {
            "text/plain": [
              "array(['Offline', 'Online', 'Corporate', 'Aviation', 'Complementary'],\n",
              "      dtype=object)"
            ]
          },
          "execution_count": 646,
          "metadata": {},
          "output_type": "execute_result"
        }
      ],
      "source": [
        "df['market segment type'].unique()"
      ]
    },
    {
      "cell_type": "code",
      "execution_count": 647,
      "metadata": {},
      "outputs": [
        {
          "name": "stdout",
          "output_type": "stream",
          "text": [
            "<class 'pandas.core.frame.DataFrame'>\n",
            "RangeIndex: 36285 entries, 0 to 36284\n",
            "Data columns (total 17 columns):\n",
            " #   Column                    Non-Null Count  Dtype  \n",
            "---  ------                    --------------  -----  \n",
            " 0   Booking_ID                36285 non-null  object \n",
            " 1   number of adults          36285 non-null  int64  \n",
            " 2   number of children        36285 non-null  int64  \n",
            " 3   number of weekend nights  36285 non-null  int64  \n",
            " 4   number of week nights     36285 non-null  int64  \n",
            " 5   type of meal              36285 non-null  object \n",
            " 6   car parking space         36285 non-null  int64  \n",
            " 7   room type                 36285 non-null  object \n",
            " 8   lead time                 36285 non-null  int64  \n",
            " 9   market segment type       36285 non-null  object \n",
            " 10  repeated                  36285 non-null  int64  \n",
            " 11  P-C                       36285 non-null  int64  \n",
            " 12  P-not-C                   36285 non-null  int64  \n",
            " 13  average price             36285 non-null  float64\n",
            " 14  special requests          36285 non-null  int64  \n",
            " 15  date of reservation       36285 non-null  object \n",
            " 16  booking status            36285 non-null  object \n",
            "dtypes: float64(1), int64(10), object(6)\n",
            "memory usage: 4.7+ MB\n"
          ]
        }
      ],
      "source": [
        "df.info()"
      ]
    },
    {
      "cell_type": "code",
      "execution_count": 648,
      "metadata": {},
      "outputs": [
        {
          "data": {
            "text/plain": [
              "array(['Room_Type 1', 'Room_Type 4', 'Room_Type 2', 'Room_Type 6',\n",
              "       'Room_Type 5', 'Room_Type 7', 'Room_Type 3'], dtype=object)"
            ]
          },
          "execution_count": 648,
          "metadata": {},
          "output_type": "execute_result"
        }
      ],
      "source": [
        "df['room type'].unique()"
      ]
    },
    {
      "cell_type": "code",
      "execution_count": 649,
      "metadata": {
        "colab": {
          "base_uri": "https://localhost:8080/"
        },
        "id": "RpRJL27ekkBj",
        "outputId": "c6f73e6a-1671-4011-c2d8-098926ac2a53"
      },
      "outputs": [
        {
          "name": "stdout",
          "output_type": "stream",
          "text": [
            "The size of my Dataset: (36285, 17)\n"
          ]
        }
      ],
      "source": [
        "print(f\"The size of my Dataset: {df.shape}\")"
      ]
    },
    {
      "cell_type": "markdown",
      "metadata": {
        "id": "uquBC-7MR4ZG"
      },
      "source": [
        "## 1.1 Check Null"
      ]
    },
    {
      "cell_type": "code",
      "execution_count": 650,
      "metadata": {
        "colab": {
          "base_uri": "https://localhost:8080/"
        },
        "id": "pn74oYZCRDty",
        "outputId": "2b5784f8-af0c-48f2-ee1d-f3a496a864d4"
      },
      "outputs": [
        {
          "name": "stdout",
          "output_type": "stream",
          "text": [
            "DataFrame has null values: False\n"
          ]
        }
      ],
      "source": [
        "has_null = df.isnull().values.any()  # False\n",
        "print(f\"DataFrame has null values: {has_null}\")"
      ]
    },
    {
      "cell_type": "markdown",
      "metadata": {
        "id": "L0JZaaaUSTtp"
      },
      "source": [
        "## 1.2 Data Type"
      ]
    },
    {
      "cell_type": "code",
      "execution_count": 651,
      "metadata": {
        "colab": {
          "base_uri": "https://localhost:8080/"
        },
        "id": "BO0L9VL6RMYE",
        "outputId": "28d5bf5b-4240-40c2-f26d-11a0c4d1c692"
      },
      "outputs": [
        {
          "data": {
            "text/plain": [
              "Booking_ID                   object\n",
              "number of adults              int64\n",
              "number of children            int64\n",
              "number of weekend nights      int64\n",
              "number of week nights         int64\n",
              "type of meal                 object\n",
              "car parking space             int64\n",
              "room type                    object\n",
              "lead time                     int64\n",
              "market segment type          object\n",
              "repeated                      int64\n",
              "P-C                           int64\n",
              "P-not-C                       int64\n",
              "average price               float64\n",
              "special requests              int64\n",
              "date of reservation          object\n",
              "booking status               object\n",
              "dtype: object"
            ]
          },
          "execution_count": 651,
          "metadata": {},
          "output_type": "execute_result"
        }
      ],
      "source": [
        "df.dtypes"
      ]
    },
    {
      "cell_type": "markdown",
      "metadata": {
        "id": "SkKqLvgSUDOH"
      },
      "source": [
        "Each Column has its appropriate data type"
      ]
    },
    {
      "cell_type": "code",
      "execution_count": 652,
      "metadata": {
        "colab": {
          "base_uri": "https://localhost:8080/"
        },
        "id": "gDZ6wNrBEiMO",
        "outputId": "6e093841-a0c1-4f59-a89d-8b41f4995cad"
      },
      "outputs": [
        {
          "name": "stdout",
          "output_type": "stream",
          "text": [
            "Duplicate rows in the DataFrame:\n",
            "Empty DataFrame\n",
            "Columns: [Booking_ID, number of adults, number of children, number of weekend nights, number of week nights, type of meal, car parking space, room type, lead time, market segment type, repeated, P-C, P-not-C, average price, special requests, date of reservation, booking status]\n",
            "Index: []\n"
          ]
        }
      ],
      "source": [
        "# Check for duplicates in the entire DataFrame\n",
        "duplicates = df[df.duplicated()]\n",
        "\n",
        "print(\"Duplicate rows in the DataFrame:\")\n",
        "print(duplicates)"
      ]
    },
    {
      "cell_type": "markdown",
      "metadata": {
        "id": "9rbcapWZElo4"
      },
      "source": [
        "Note: Data has no dublicates"
      ]
    },
    {
      "cell_type": "code",
      "execution_count": 653,
      "metadata": {},
      "outputs": [],
      "source": [
        "Sscaler = StandardScaler()\n",
        "Mscaler = MinMaxScaler()\n",
        "\n",
        "## Normalize and Scale the columns of high variance\n",
        "df['lead time'] = Sscaler.fit_transform(df[['lead time']])\n",
        "df['lead time'] = Mscaler.fit_transform(df[['lead time']])\n",
        "df['average price'] = Sscaler.fit_transform(df[['average price']])\n",
        "df['average price'] = Mscaler.fit_transform(df[['average price']])\n",
        "\n"
      ]
    },
    {
      "cell_type": "code",
      "execution_count": 654,
      "metadata": {},
      "outputs": [],
      "source": [
        "\n",
        "with open('Sscaler.pkl', 'wb') as f:  # open a text file\n",
        "    pickle.dump(Sscaler, f) # serialize the list\n",
        "\n",
        "\n",
        "with open('Mscaler.pkl', 'wb') as f:  # open a text file\n",
        "    pickle.dump(Mscaler, f) # serialize the list"
      ]
    },
    {
      "cell_type": "markdown",
      "metadata": {
        "id": "fnwyiutqUada"
      },
      "source": [
        "# Step 2 **Check an Handle Outliers**"
      ]
    },
    {
      "cell_type": "markdown",
      "metadata": {
        "id": "CAYTOSs5Ugtr"
      },
      "source": [
        "## 2.1 Check Outliers"
      ]
    },
    {
      "cell_type": "code",
      "execution_count": 655,
      "metadata": {
        "colab": {
          "base_uri": "https://localhost:8080/"
        },
        "id": "VaPDqn5HTmT0",
        "outputId": "59179e94-d1af-4908-f712-df9954b7888f"
      },
      "outputs": [
        {
          "name": "stdout",
          "output_type": "stream",
          "text": [
            "Skewness of numeric columns:\n",
            "number of adults            -0.332819\n",
            "number of children           4.707481\n",
            "number of weekend nights     0.737605\n",
            "number of week nights        1.598619\n",
            "car parking space            5.414240\n",
            "lead time                    1.292382\n",
            "repeated                     6.003535\n",
            "P-C                         25.202317\n",
            "P-not-C                     19.252059\n",
            "average price                0.667158\n",
            "special requests             1.145051\n",
            "dtype: float64\n"
          ]
        }
      ],
      "source": [
        "numeric_cols = df.select_dtypes(include=[np.number]).columns\n",
        "cat_cols = df.select_dtypes(include=['object'])\n",
        "\n",
        "skewness_values = df[numeric_cols].apply(skew)\n",
        "print(\"Skewness of numeric columns:\")\n",
        "print(skewness_values)"
      ]
    },
    {
      "cell_type": "markdown",
      "metadata": {
        "id": "FuoWOQJnaLwm"
      },
      "source": [
        "Notice the high Skewness in the data.\n",
        "To handle outliers we have 2 methods:\n",
        "\n",
        "1.   Use ***Zscore*** for normal distributed data\n",
        "\n",
        "2.   Use ***IQR*** for skewed data\n",
        "\n",
        "\n",
        "\n",
        "\n",
        "In the following code we check for skweness and apply the suitable method (using a threshold of 0.5)"
      ]
    },
    {
      "cell_type": "code",
      "execution_count": 656,
      "metadata": {
        "colab": {
          "base_uri": "https://localhost:8080/"
        },
        "id": "HNVxJCP7V-HY",
        "outputId": "7e7a00bd-fbe2-4d31-e239-3fab7c975927"
      },
      "outputs": [
        {
          "name": "stdout",
          "output_type": "stream",
          "text": [
            "Outliers detected using Z-score:\n",
            "Empty DataFrame\n",
            "Columns: []\n",
            "Index: []\n",
            "\n",
            "Outliers detected using IQR:\n",
            "       lead time  average price\n",
            "5       0.781038            NaN\n",
            "118     1.000000            NaN\n",
            "199     0.943567            NaN\n",
            "205     0.977427            NaN\n",
            "369     0.871332            NaN\n",
            "...          ...            ...\n",
            "36217        NaN       0.000000\n",
            "36221        NaN       0.385000\n",
            "36227        NaN       0.427778\n",
            "36250        NaN       0.000000\n",
            "36269        NaN       0.400000\n",
            "\n",
            "[1442 rows x 2 columns]\n",
            "Total number of rows has outliers: \"1442\" \n",
            "The size of the Dataset after extracting outliers: \"(34843, 17)\"\n",
            "The percentage of outliers removed: 3.97%\n"
          ]
        }
      ],
      "source": [
        "numeric_cont_cols = ['lead time', 'average price']\n",
        "skewed_cols = df[numeric_cont_cols].apply(skew)\n",
        "\n",
        "outliers_zscore = pd.DataFrame()\n",
        "outliers_IQR = pd.DataFrame()\n",
        "\n",
        "for col in numeric_cont_cols:\n",
        "\n",
        "  if(np.abs(skewed_cols[col]) < 0.5):\n",
        "    # Use Z-score for near-normal distributions\n",
        "    z_scores = np.abs(zscore(df[col]))\n",
        "    outliers_rows = df.loc[z_scores > 4, col]\n",
        "    # Store the outliers rows with its outlier value for any further processing\n",
        "    outliers_zscore = pd.concat([outliers_zscore, outliers_rows], axis=1)       #column wise\n",
        "\n",
        "  else:\n",
        "    Q1 = df[col].quantile(.25)\n",
        "    Q3 = df[col].quantile(.75)\n",
        "    IQR = Q3 - Q1\n",
        "    # Used factor 2 instead of 1.5 due to the high percentage of outliers\n",
        "    outliers_col = df.loc[(df[col] < (Q1 - 2 * IQR)) | (df[col] > (Q3 + 2 * IQR)), col]\n",
        "    outliers_IQR = pd.concat([outliers_IQR, outliers_col], axis=1)\n",
        "\n",
        "\n",
        "# Combine outlier indices from both methods\n",
        "outlier_indices_zscore = outliers_zscore.index\n",
        "outlier_indices_IQR = outliers_IQR.index\n",
        "total_outlier_indices = outlier_indices_zscore.union(outlier_indices_IQR)\n",
        "\n",
        "# Remove outliers from the original DataFrame\n",
        "df_cleaned = df.drop(total_outlier_indices)\n",
        "\n",
        "print(\"Outliers detected using Z-score:\")\n",
        "print(outliers_zscore)\n",
        "print(\"\\nOutliers detected using IQR:\")\n",
        "print(outliers_IQR)\n",
        "\n",
        "outliers_count = len(total_outlier_indices)\n",
        "total_rows = df.shape[0]\n",
        "cleaned_rows = df_cleaned.shape[0]\n",
        "percentage_outliers = (outliers_count / total_rows) * 100\n",
        "\n",
        "\n",
        "print(f'Total number of rows has outliers: \"{outliers_count}\" ')\n",
        "print(f'The size of the Dataset after extracting outliers: \"{df_cleaned.shape}\"')\n",
        "\n",
        "print(f'The percentage of outliers removed: {percentage_outliers:.2f}%')\n",
        "df = df_cleaned"
      ]
    },
    {
      "cell_type": "markdown",
      "metadata": {
        "id": "XA-jVe55nt6I"
      },
      "source": [
        "Note:\n",
        "\n",
        "\n",
        "*   Low Percentage: In many cases, datasets with well-behaved, normally distributed data might have outlier percentages in the range of 1% to 5%.\n",
        "*   Higher Percentage: Datasets with skewed distributions or data prone to extreme values (e.g., income data, social media metrics) might have outlier percentages exceeding 5% or more.\n",
        "\n",
        "-ChatGPT\n",
        "\n"
      ]
    },
    {
      "cell_type": "markdown",
      "metadata": {
        "id": "mKL3beyC1iPn"
      },
      "source": [
        "# Step 3 **Feature Engineering**"
      ]
    },
    {
      "cell_type": "code",
      "execution_count": 657,
      "metadata": {
        "colab": {
          "base_uri": "https://localhost:8080/"
        },
        "id": "B2QR4AML332O",
        "outputId": "e40a0650-0534-4dcd-cbee-6e1ec0323c45"
      },
      "outputs": [
        {
          "name": "stdout",
          "output_type": "stream",
          "text": [
            "DataFrame has null values: 37\n"
          ]
        }
      ],
      "source": [
        "df['date of reservation'] = pd.to_datetime(df['date of reservation'], format='%m/%d/%Y',errors ='coerce')\n",
        "df.drop(columns=['Booking_ID'], inplace=True)\n",
        "df.drop(columns=['repeated'], inplace=True)\n",
        "df.drop(columns=['P-not-C'], inplace=True)\n",
        "\n",
        "\n",
        "# Extract date features\n",
        "# df['reservation_year'] = df['date of reservation'].dt.year\n",
        "df['reservation_month'] = df['date of reservation'].dt.month\n",
        "# df['reservation_day'] = df['date of reservation'].dt.day\n",
        "df['reservation_day_of_week'] = df['date of reservation'].dt.dayofweek\n",
        "df['is_weekend'] = df['reservation_day_of_week'].apply(lambda x: 1 if x in [4,5] else 0)      # for friday and saturday\n",
        "df.drop(columns=['date of reservation'], inplace=True)\n",
        "\n",
        "# Create new features\n",
        "df['stay_duration'] = df['number of weekend nights'] + df['number of week nights']\n",
        "df['total_guests'] = df['number of adults'] + df['number of children']\n",
        "\n",
        "# Handle missing values if any\n",
        "num_rows_with_nan = df.isna().any(axis=1).sum()\n",
        "print(f\"DataFrame has null values: {num_rows_with_nan}\")\n",
        "if num_rows_with_nan:\n",
        "  df.dropna(inplace=True)\n"
      ]
    },
    {
      "cell_type": "markdown",
      "metadata": {
        "id": "MbMblonBi0eI"
      },
      "source": [
        "# Step 4: **Transformation For The Categorical Data**"
      ]
    },
    {
      "cell_type": "code",
      "execution_count": 658,
      "metadata": {
        "id": "JNgPmNZ3hkdV"
      },
      "outputs": [],
      "source": [
        "# First encode the binary categories\n",
        "df['booking status'] = df['booking status'].map({'Canceled': 0, 'Not_Canceled': 1})\n",
        "label_encoder = LabelEncoder()\n",
        "df['type of meal'] = label_encoder.fit_transform(df['type of meal'])\n",
        "df['market segment type'] = label_encoder.fit_transform(df['market segment type'])\n",
        "\n",
        "\n",
        "# Second encode the multivalue categories\n",
        "tmp_cols = df.select_dtypes(include='object').columns\n",
        "encoded_df = pd.get_dummies(data = df, prefix = tmp_cols, columns = tmp_cols)\n",
        "del(tmp_cols)"
      ]
    },
    {
      "cell_type": "code",
      "execution_count": 659,
      "metadata": {},
      "outputs": [],
      "source": [
        "# df2 = df.copy()\n",
        "\n",
        "# df2['room type'] = label_encoder.fit_transform(df2['room type'])\n",
        "# df2['booking status'] = label_encoder.fit_transform(df2['booking status'])\n",
        "# df2.drop(columns=['reservation_year','reservation_day'],inplace=True)\n",
        "\n",
        "# encoded_df = df2.copy()\n",
        "\n",
        "# df2"
      ]
    },
    {
      "cell_type": "code",
      "execution_count": 660,
      "metadata": {},
      "outputs": [
        {
          "data": {
            "text/plain": [
              "Index(['number of adults', 'number of children', 'number of weekend nights',\n",
              "       'number of week nights', 'type of meal', 'car parking space',\n",
              "       'lead time', 'market segment type', 'P-C', 'average price',\n",
              "       'special requests', 'booking status', 'reservation_month',\n",
              "       'reservation_day_of_week', 'is_weekend', 'stay_duration',\n",
              "       'total_guests', 'room type_Room_Type 1', 'room type_Room_Type 2',\n",
              "       'room type_Room_Type 3', 'room type_Room_Type 4',\n",
              "       'room type_Room_Type 5', 'room type_Room_Type 6',\n",
              "       'room type_Room_Type 7'],\n",
              "      dtype='object')"
            ]
          },
          "execution_count": 660,
          "metadata": {},
          "output_type": "execute_result"
        }
      ],
      "source": [
        "encoded_df.columns"
      ]
    },
    {
      "cell_type": "code",
      "execution_count": 661,
      "metadata": {
        "colab": {
          "base_uri": "https://localhost:8080/",
          "height": 495
        },
        "id": "ZNrpF6L2frtm",
        "outputId": "9d942cde-1f1e-4fc1-f149-7dcfbe15b96f"
      },
      "outputs": [
        {
          "data": {
            "text/html": [
              "<div>\n",
              "<style scoped>\n",
              "    .dataframe tbody tr th:only-of-type {\n",
              "        vertical-align: middle;\n",
              "    }\n",
              "\n",
              "    .dataframe tbody tr th {\n",
              "        vertical-align: top;\n",
              "    }\n",
              "\n",
              "    .dataframe thead th {\n",
              "        text-align: right;\n",
              "    }\n",
              "</style>\n",
              "<table border=\"1\" class=\"dataframe\">\n",
              "  <thead>\n",
              "    <tr style=\"text-align: right;\">\n",
              "      <th></th>\n",
              "      <th>number of adults</th>\n",
              "      <th>number of children</th>\n",
              "      <th>number of weekend nights</th>\n",
              "      <th>number of week nights</th>\n",
              "      <th>type of meal</th>\n",
              "      <th>car parking space</th>\n",
              "      <th>lead time</th>\n",
              "      <th>market segment type</th>\n",
              "      <th>P-C</th>\n",
              "      <th>average price</th>\n",
              "      <th>...</th>\n",
              "      <th>is_weekend</th>\n",
              "      <th>stay_duration</th>\n",
              "      <th>total_guests</th>\n",
              "      <th>room type_Room_Type 1</th>\n",
              "      <th>room type_Room_Type 2</th>\n",
              "      <th>room type_Room_Type 3</th>\n",
              "      <th>room type_Room_Type 4</th>\n",
              "      <th>room type_Room_Type 5</th>\n",
              "      <th>room type_Room_Type 6</th>\n",
              "      <th>room type_Room_Type 7</th>\n",
              "    </tr>\n",
              "  </thead>\n",
              "  <tbody>\n",
              "    <tr>\n",
              "      <th>0</th>\n",
              "      <td>1</td>\n",
              "      <td>1</td>\n",
              "      <td>2</td>\n",
              "      <td>5</td>\n",
              "      <td>0</td>\n",
              "      <td>0</td>\n",
              "      <td>0.505643</td>\n",
              "      <td>3</td>\n",
              "      <td>0</td>\n",
              "      <td>0.162963</td>\n",
              "      <td>...</td>\n",
              "      <td>1</td>\n",
              "      <td>7</td>\n",
              "      <td>2</td>\n",
              "      <td>True</td>\n",
              "      <td>False</td>\n",
              "      <td>False</td>\n",
              "      <td>False</td>\n",
              "      <td>False</td>\n",
              "      <td>False</td>\n",
              "      <td>False</td>\n",
              "    </tr>\n",
              "    <tr>\n",
              "      <th>1</th>\n",
              "      <td>1</td>\n",
              "      <td>0</td>\n",
              "      <td>1</td>\n",
              "      <td>3</td>\n",
              "      <td>2</td>\n",
              "      <td>0</td>\n",
              "      <td>0.011287</td>\n",
              "      <td>4</td>\n",
              "      <td>0</td>\n",
              "      <td>0.197556</td>\n",
              "      <td>...</td>\n",
              "      <td>0</td>\n",
              "      <td>4</td>\n",
              "      <td>1</td>\n",
              "      <td>True</td>\n",
              "      <td>False</td>\n",
              "      <td>False</td>\n",
              "      <td>False</td>\n",
              "      <td>False</td>\n",
              "      <td>False</td>\n",
              "      <td>False</td>\n",
              "    </tr>\n",
              "    <tr>\n",
              "      <th>2</th>\n",
              "      <td>2</td>\n",
              "      <td>1</td>\n",
              "      <td>1</td>\n",
              "      <td>3</td>\n",
              "      <td>0</td>\n",
              "      <td>0</td>\n",
              "      <td>0.002257</td>\n",
              "      <td>4</td>\n",
              "      <td>0</td>\n",
              "      <td>0.092593</td>\n",
              "      <td>...</td>\n",
              "      <td>0</td>\n",
              "      <td>4</td>\n",
              "      <td>3</td>\n",
              "      <td>True</td>\n",
              "      <td>False</td>\n",
              "      <td>False</td>\n",
              "      <td>False</td>\n",
              "      <td>False</td>\n",
              "      <td>False</td>\n",
              "      <td>False</td>\n",
              "    </tr>\n",
              "    <tr>\n",
              "      <th>3</th>\n",
              "      <td>1</td>\n",
              "      <td>0</td>\n",
              "      <td>0</td>\n",
              "      <td>2</td>\n",
              "      <td>0</td>\n",
              "      <td>0</td>\n",
              "      <td>0.476298</td>\n",
              "      <td>4</td>\n",
              "      <td>0</td>\n",
              "      <td>0.185185</td>\n",
              "      <td>...</td>\n",
              "      <td>1</td>\n",
              "      <td>2</td>\n",
              "      <td>1</td>\n",
              "      <td>True</td>\n",
              "      <td>False</td>\n",
              "      <td>False</td>\n",
              "      <td>False</td>\n",
              "      <td>False</td>\n",
              "      <td>False</td>\n",
              "      <td>False</td>\n",
              "    </tr>\n",
              "    <tr>\n",
              "      <th>4</th>\n",
              "      <td>1</td>\n",
              "      <td>0</td>\n",
              "      <td>1</td>\n",
              "      <td>2</td>\n",
              "      <td>2</td>\n",
              "      <td>0</td>\n",
              "      <td>0.108352</td>\n",
              "      <td>4</td>\n",
              "      <td>0</td>\n",
              "      <td>0.142593</td>\n",
              "      <td>...</td>\n",
              "      <td>0</td>\n",
              "      <td>3</td>\n",
              "      <td>1</td>\n",
              "      <td>True</td>\n",
              "      <td>False</td>\n",
              "      <td>False</td>\n",
              "      <td>False</td>\n",
              "      <td>False</td>\n",
              "      <td>False</td>\n",
              "      <td>False</td>\n",
              "    </tr>\n",
              "    <tr>\n",
              "      <th>...</th>\n",
              "      <td>...</td>\n",
              "      <td>...</td>\n",
              "      <td>...</td>\n",
              "      <td>...</td>\n",
              "      <td>...</td>\n",
              "      <td>...</td>\n",
              "      <td>...</td>\n",
              "      <td>...</td>\n",
              "      <td>...</td>\n",
              "      <td>...</td>\n",
              "      <td>...</td>\n",
              "      <td>...</td>\n",
              "      <td>...</td>\n",
              "      <td>...</td>\n",
              "      <td>...</td>\n",
              "      <td>...</td>\n",
              "      <td>...</td>\n",
              "      <td>...</td>\n",
              "      <td>...</td>\n",
              "      <td>...</td>\n",
              "      <td>...</td>\n",
              "    </tr>\n",
              "    <tr>\n",
              "      <th>36279</th>\n",
              "      <td>2</td>\n",
              "      <td>0</td>\n",
              "      <td>1</td>\n",
              "      <td>1</td>\n",
              "      <td>2</td>\n",
              "      <td>0</td>\n",
              "      <td>0.108352</td>\n",
              "      <td>4</td>\n",
              "      <td>0</td>\n",
              "      <td>0.175000</td>\n",
              "      <td>...</td>\n",
              "      <td>0</td>\n",
              "      <td>2</td>\n",
              "      <td>2</td>\n",
              "      <td>True</td>\n",
              "      <td>False</td>\n",
              "      <td>False</td>\n",
              "      <td>False</td>\n",
              "      <td>False</td>\n",
              "      <td>False</td>\n",
              "      <td>False</td>\n",
              "    </tr>\n",
              "    <tr>\n",
              "      <th>36281</th>\n",
              "      <td>2</td>\n",
              "      <td>0</td>\n",
              "      <td>1</td>\n",
              "      <td>3</td>\n",
              "      <td>0</td>\n",
              "      <td>0</td>\n",
              "      <td>0.076749</td>\n",
              "      <td>4</td>\n",
              "      <td>0</td>\n",
              "      <td>0.199167</td>\n",
              "      <td>...</td>\n",
              "      <td>0</td>\n",
              "      <td>4</td>\n",
              "      <td>2</td>\n",
              "      <td>True</td>\n",
              "      <td>False</td>\n",
              "      <td>False</td>\n",
              "      <td>False</td>\n",
              "      <td>False</td>\n",
              "      <td>False</td>\n",
              "      <td>False</td>\n",
              "    </tr>\n",
              "    <tr>\n",
              "      <th>36282</th>\n",
              "      <td>2</td>\n",
              "      <td>0</td>\n",
              "      <td>1</td>\n",
              "      <td>3</td>\n",
              "      <td>0</td>\n",
              "      <td>0</td>\n",
              "      <td>0.187359</td>\n",
              "      <td>4</td>\n",
              "      <td>0</td>\n",
              "      <td>0.195574</td>\n",
              "      <td>...</td>\n",
              "      <td>0</td>\n",
              "      <td>4</td>\n",
              "      <td>2</td>\n",
              "      <td>False</td>\n",
              "      <td>False</td>\n",
              "      <td>False</td>\n",
              "      <td>True</td>\n",
              "      <td>False</td>\n",
              "      <td>False</td>\n",
              "      <td>False</td>\n",
              "    </tr>\n",
              "    <tr>\n",
              "      <th>36283</th>\n",
              "      <td>3</td>\n",
              "      <td>0</td>\n",
              "      <td>0</td>\n",
              "      <td>4</td>\n",
              "      <td>0</td>\n",
              "      <td>0</td>\n",
              "      <td>0.273138</td>\n",
              "      <td>3</td>\n",
              "      <td>0</td>\n",
              "      <td>0.179444</td>\n",
              "      <td>...</td>\n",
              "      <td>1</td>\n",
              "      <td>4</td>\n",
              "      <td>3</td>\n",
              "      <td>True</td>\n",
              "      <td>False</td>\n",
              "      <td>False</td>\n",
              "      <td>False</td>\n",
              "      <td>False</td>\n",
              "      <td>False</td>\n",
              "      <td>False</td>\n",
              "    </tr>\n",
              "    <tr>\n",
              "      <th>36284</th>\n",
              "      <td>2</td>\n",
              "      <td>0</td>\n",
              "      <td>0</td>\n",
              "      <td>5</td>\n",
              "      <td>0</td>\n",
              "      <td>0</td>\n",
              "      <td>0.099323</td>\n",
              "      <td>4</td>\n",
              "      <td>0</td>\n",
              "      <td>0.247111</td>\n",
              "      <td>...</td>\n",
              "      <td>0</td>\n",
              "      <td>5</td>\n",
              "      <td>2</td>\n",
              "      <td>False</td>\n",
              "      <td>False</td>\n",
              "      <td>False</td>\n",
              "      <td>True</td>\n",
              "      <td>False</td>\n",
              "      <td>False</td>\n",
              "      <td>False</td>\n",
              "    </tr>\n",
              "  </tbody>\n",
              "</table>\n",
              "<p>34806 rows × 24 columns</p>\n",
              "</div>"
            ],
            "text/plain": [
              "       number of adults  number of children  number of weekend nights  \\\n",
              "0                     1                   1                         2   \n",
              "1                     1                   0                         1   \n",
              "2                     2                   1                         1   \n",
              "3                     1                   0                         0   \n",
              "4                     1                   0                         1   \n",
              "...                 ...                 ...                       ...   \n",
              "36279                 2                   0                         1   \n",
              "36281                 2                   0                         1   \n",
              "36282                 2                   0                         1   \n",
              "36283                 3                   0                         0   \n",
              "36284                 2                   0                         0   \n",
              "\n",
              "       number of week nights  type of meal  car parking space  lead time  \\\n",
              "0                          5             0                  0   0.505643   \n",
              "1                          3             2                  0   0.011287   \n",
              "2                          3             0                  0   0.002257   \n",
              "3                          2             0                  0   0.476298   \n",
              "4                          2             2                  0   0.108352   \n",
              "...                      ...           ...                ...        ...   \n",
              "36279                      1             2                  0   0.108352   \n",
              "36281                      3             0                  0   0.076749   \n",
              "36282                      3             0                  0   0.187359   \n",
              "36283                      4             0                  0   0.273138   \n",
              "36284                      5             0                  0   0.099323   \n",
              "\n",
              "       market segment type  P-C  average price  ...  is_weekend  \\\n",
              "0                        3    0       0.162963  ...           1   \n",
              "1                        4    0       0.197556  ...           0   \n",
              "2                        4    0       0.092593  ...           0   \n",
              "3                        4    0       0.185185  ...           1   \n",
              "4                        4    0       0.142593  ...           0   \n",
              "...                    ...  ...            ...  ...         ...   \n",
              "36279                    4    0       0.175000  ...           0   \n",
              "36281                    4    0       0.199167  ...           0   \n",
              "36282                    4    0       0.195574  ...           0   \n",
              "36283                    3    0       0.179444  ...           1   \n",
              "36284                    4    0       0.247111  ...           0   \n",
              "\n",
              "       stay_duration  total_guests  room type_Room_Type 1  \\\n",
              "0                  7             2                   True   \n",
              "1                  4             1                   True   \n",
              "2                  4             3                   True   \n",
              "3                  2             1                   True   \n",
              "4                  3             1                   True   \n",
              "...              ...           ...                    ...   \n",
              "36279              2             2                   True   \n",
              "36281              4             2                   True   \n",
              "36282              4             2                  False   \n",
              "36283              4             3                   True   \n",
              "36284              5             2                  False   \n",
              "\n",
              "       room type_Room_Type 2  room type_Room_Type 3  room type_Room_Type 4  \\\n",
              "0                      False                  False                  False   \n",
              "1                      False                  False                  False   \n",
              "2                      False                  False                  False   \n",
              "3                      False                  False                  False   \n",
              "4                      False                  False                  False   \n",
              "...                      ...                    ...                    ...   \n",
              "36279                  False                  False                  False   \n",
              "36281                  False                  False                  False   \n",
              "36282                  False                  False                   True   \n",
              "36283                  False                  False                  False   \n",
              "36284                  False                  False                   True   \n",
              "\n",
              "       room type_Room_Type 5  room type_Room_Type 6  room type_Room_Type 7  \n",
              "0                      False                  False                  False  \n",
              "1                      False                  False                  False  \n",
              "2                      False                  False                  False  \n",
              "3                      False                  False                  False  \n",
              "4                      False                  False                  False  \n",
              "...                      ...                    ...                    ...  \n",
              "36279                  False                  False                  False  \n",
              "36281                  False                  False                  False  \n",
              "36282                  False                  False                  False  \n",
              "36283                  False                  False                  False  \n",
              "36284                  False                  False                  False  \n",
              "\n",
              "[34806 rows x 24 columns]"
            ]
          },
          "execution_count": 661,
          "metadata": {},
          "output_type": "execute_result"
        }
      ],
      "source": [
        "encoded_df"
      ]
    },
    {
      "cell_type": "code",
      "execution_count": 662,
      "metadata": {
        "colab": {
          "base_uri": "https://localhost:8080/"
        },
        "id": "hWWl-mJJuHGa",
        "outputId": "e86d1611-ac84-4922-9208-12786517e813"
      },
      "outputs": [
        {
          "data": {
            "text/plain": [
              "number of adults              int64\n",
              "number of children            int64\n",
              "number of weekend nights      int64\n",
              "number of week nights         int64\n",
              "type of meal                  int32\n",
              "car parking space             int64\n",
              "lead time                   float64\n",
              "market segment type           int32\n",
              "P-C                           int64\n",
              "average price               float64\n",
              "special requests              int64\n",
              "booking status                int64\n",
              "reservation_month           float64\n",
              "reservation_day_of_week     float64\n",
              "is_weekend                    int64\n",
              "stay_duration                 int64\n",
              "total_guests                  int64\n",
              "room type_Room_Type 1          bool\n",
              "room type_Room_Type 2          bool\n",
              "room type_Room_Type 3          bool\n",
              "room type_Room_Type 4          bool\n",
              "room type_Room_Type 5          bool\n",
              "room type_Room_Type 6          bool\n",
              "room type_Room_Type 7          bool\n",
              "dtype: object"
            ]
          },
          "execution_count": 662,
          "metadata": {},
          "output_type": "execute_result"
        }
      ],
      "source": [
        "df1 = encoded_df.copy()\n",
        "encoded_df.dtypes"
      ]
    },
    {
      "cell_type": "code",
      "execution_count": 663,
      "metadata": {
        "colab": {
          "base_uri": "https://localhost:8080/"
        },
        "id": "Ly5e1txgaN0Q",
        "outputId": "32022826-eb2c-4b24-f116-88d7250893ae"
      },
      "outputs": [
        {
          "name": "stdout",
          "output_type": "stream",
          "text": [
            "DataFrame has null values: 0\n"
          ]
        }
      ],
      "source": [
        "num_rows_with_nan = encoded_df.isna().any(axis=1).sum()\n",
        "print(f\"DataFrame has null values: {num_rows_with_nan}\")\n"
      ]
    },
    {
      "cell_type": "markdown",
      "metadata": {
        "id": "eR5UTbLTjSog"
      },
      "source": [
        "# Step 5: **Train Test Split**"
      ]
    },
    {
      "cell_type": "code",
      "execution_count": 664,
      "metadata": {
        "colab": {
          "base_uri": "https://localhost:8080/"
        },
        "id": "-hcaNGmHWnwy",
        "outputId": "41b192e9-6f81-429c-b28a-e4ed030f44ea"
      },
      "outputs": [
        {
          "name": "stdout",
          "output_type": "stream",
          "text": [
            "(34806, 23)\n",
            "(34806,)\n"
          ]
        }
      ],
      "source": [
        "y = df['booking status'].to_numpy()\n",
        "\n",
        "X = np.array(encoded_df.drop(columns='booking status', inplace = False))\n",
        "print(X.shape)\n",
        "print(y.shape)"
      ]
    },
    {
      "cell_type": "code",
      "execution_count": 665,
      "metadata": {
        "id": "OeCvSU7_pVkm"
      },
      "outputs": [],
      "source": [
        "X_train, X_, y_train, y_ = train_test_split(X, y, train_size = 0.8)\n",
        "X_cv, X_test, y_cv, y_test = train_test_split(X_,y_, train_size = 0.5)\n",
        "del(X_,y_)"
      ]
    },
    {
      "cell_type": "code",
      "execution_count": 666,
      "metadata": {
        "colab": {
          "base_uri": "https://localhost:8080/"
        },
        "id": "2mmecSm3rGD5",
        "outputId": "4d4493df-518b-4210-f7cb-94888545b359"
      },
      "outputs": [
        {
          "name": "stdout",
          "output_type": "stream",
          "text": [
            "X train shape:  (27844, 23)\n",
            "y train shape:  (27844,)\n",
            "X CV shape: (3481, 23)\n",
            "X CV shape: (3481,)\n",
            "X test shape: (3481, 23)\n",
            "X test shape: (3481,)\n"
          ]
        }
      ],
      "source": [
        "print(\"X train shape: \",X_train.shape)\n",
        "print(\"y train shape: \",y_train.shape)\n",
        "\n",
        "print(\"X CV shape:\",X_cv.shape)\n",
        "print(\"X CV shape:\",y_cv.shape)\n",
        "\n",
        "print(\"X test shape:\",X_test.shape)\n",
        "print(\"X test shape:\",y_test.shape)\n"
      ]
    },
    {
      "cell_type": "markdown",
      "metadata": {
        "id": "m9uWVFsGOT3S"
      },
      "source": [
        "# Step 6: **Modeling And Accuracy Calculation**"
      ]
    },
    {
      "cell_type": "markdown",
      "metadata": {},
      "source": [
        "## ***Random Forest Classifier***"
      ]
    },
    {
      "cell_type": "code",
      "execution_count": 667,
      "metadata": {},
      "outputs": [
        {
          "name": "stdout",
          "output_type": "stream",
          "text": [
            "Accuracy:  0.8974432634300489\n",
            "              precision    recall  f1-score   support\n",
            "\n",
            "           0       0.87      0.81      0.84      1151\n",
            "           1       0.91      0.94      0.92      2330\n",
            "\n",
            "    accuracy                           0.90      3481\n",
            "   macro avg       0.89      0.88      0.88      3481\n",
            "weighted avg       0.90      0.90      0.90      3481\n",
            "\n"
          ]
        }
      ],
      "source": [
        "rfc = RandomForestClassifier(random_state=42)\n",
        "rfc.fit(X_train,y_train)\n",
        "y_pred = rfc.predict(X_test)\n",
        "# Accuracy calculation\n",
        "accuracy = accuracy_score(y_test, y_pred)\n",
        "print(f'Accuracy: ', accuracy_score(y_test, y_pred))\n",
        "print(classification_report(y_test, y_pred))\n"
      ]
    },
    {
      "cell_type": "markdown",
      "metadata": {},
      "source": [
        "# **Task 3**"
      ]
    },
    {
      "cell_type": "code",
      "execution_count": 668,
      "metadata": {},
      "outputs": [
        {
          "name": "stdout",
          "output_type": "stream",
          "text": [
            "X shape:  (34806, 23)\n",
            "y shape:  (34806,)\n"
          ]
        }
      ],
      "source": [
        "X = df1.drop('booking status', axis=1)\n",
        "y = df1['booking status']\n",
        "print(\"X shape: \", X.shape)\n",
        "print(\"y shape: \", y.shape)"
      ]
    },
    {
      "cell_type": "markdown",
      "metadata": {},
      "source": [
        "## ***ANOVA***  Feature Selection"
      ]
    },
    {
      "cell_type": "code",
      "execution_count": 677,
      "metadata": {},
      "outputs": [
        {
          "name": "stdout",
          "output_type": "stream",
          "text": [
            "Optimized Model Accuracy (train): 0.9947804434228799\n",
            "Optimized Model Accuracy (test): 0.9120841234269953\n",
            "Jtrain:  0.005219556577120145\n",
            "Jcv:  0.005401367580302247\n"
          ]
        }
      ],
      "source": [
        "selector = SelectKBest(f_classif, k=23)  # selecting top 10 features\n",
        "X_new = selector.fit_transform(X, y)\n",
        "\n",
        "# Split the dataset again with the selected features\n",
        "X_train_new, x_, y_train_new, y_ = train_test_split(X_new, y, test_size=0.4, random_state=42)\n",
        "X_cv_new, X_test_new, y_cv_new, y_test_new =  train_test_split(X_new, y, test_size=0.5, random_state=42)\n",
        "\n",
        "\n",
        "\n",
        "\n",
        "\n",
        "## Here is the required output from the feature selection method X and Y \n",
        "###################################################################################\n",
        "# Train the model with selected features\n",
        "rfc.fit(X_train_new, y_train_new)\n",
        "\n",
        "# Evaluate the model\n",
        "y_pred = rfc.predict(X_train_new)\n",
        "print(f\"Optimized Model Accuracy (train): {accuracy_score(y_train_new, y_pred)}\")\n",
        "y_pred = rfc.predict(X_test_new)\n",
        "print(f\"Optimized Model Accuracy (test): {accuracy_score(y_test_new, y_pred)}\")\n",
        "# Overfitting test\n",
        "y_pred_train = rfc.predict(X_train_new)\n",
        "y_pred_cv = rfc.predict(X_cv_new)\n",
        "jtrain = mean_squared_error(y_train_new, y_pred_train)\n",
        "jcv = mean_squared_error(y_cv_new, y_pred_cv)\n",
        "print(\"Jtrain: \",jtrain)\n",
        "print(\"Jcv: \",jcv)\n",
        "\n"
      ]
    },
    {
      "cell_type": "code",
      "execution_count": 678,
      "metadata": {},
      "outputs": [
        {
          "data": {
            "text/plain": [
              "Index(['number of adults', 'number of children', 'number of weekend nights',\n",
              "       'number of week nights', 'type of meal', 'car parking space',\n",
              "       'lead time', 'market segment type', 'P-C', 'average price',\n",
              "       'special requests', 'reservation_month', 'reservation_day_of_week',\n",
              "       'is_weekend', 'stay_duration', 'total_guests', 'room type_Room_Type 1',\n",
              "       'room type_Room_Type 2', 'room type_Room_Type 3',\n",
              "       'room type_Room_Type 4', 'room type_Room_Type 5',\n",
              "       'room type_Room_Type 6', 'room type_Room_Type 7'],\n",
              "      dtype='object')"
            ]
          },
          "execution_count": 678,
          "metadata": {},
          "output_type": "execute_result"
        }
      ],
      "source": [
        "# Get the boolean mask of selected features\n",
        "selected_mask = selector.get_support()\n",
        "\n",
        "# Get the names of selected features if X is a DataFrame\n",
        "selected_features = X.columns[selected_mask]\n",
        "selected_features"
      ]
    },
    {
      "cell_type": "code",
      "execution_count": 671,
      "metadata": {},
      "outputs": [],
      "source": [
        "\n",
        "with open('model.pkl', 'wb') as f:  # open a text file\n",
        "    pickle.dump(rfc, f) # serialize the list\n",
        "nnmodel = pickle.load('nn_model')"
      ]
    },
    {
      "cell_type": "code",
      "execution_count": null,
      "metadata": {},
      "outputs": [],
      "source": [
        "nnmodel = pickle.load('nn_model')"
      ]
    },
    {
      "cell_type": "code",
      "execution_count": 672,
      "metadata": {},
      "outputs": [
        {
          "name": "stdout",
          "output_type": "stream",
          "text": [
            "Index(['lead time', 'average price', 'special requests', 'reservation_month',\n",
            "       'market segment type', 'room type_Room_Type 1', 'stay_duration',\n",
            "       'total_guests', 'P-C', 'type of meal'],\n",
            "      dtype='object')\n"
          ]
        }
      ],
      "source": [
        "from sklearn.feature_selection import mutual_info_classif  # Import the function\n",
        "\n",
        "# Calculate mutual information between each feature and the target\n",
        "mutual_info = mutual_info_classif(X_train, y_train)\n",
        "\n",
        "# Create a DataFrame to show feature importance\n",
        "feature_importance = pd.DataFrame({\n",
        "    'Feature': X.columns,\n",
        "    'Mutual_Info': mutual_info\n",
        "})\n",
        "\n",
        "# Sort features by their mutual information score\n",
        "feature_importance = feature_importance.sort_values(by='Mutual_Info', ascending=False)\n",
        "\n",
        "# Select the highest n features\n",
        "n = 10\n",
        "Selected_features_Minfo = feature_importance.head(n)['Feature']\n",
        "df_Minfo = df1[Selected_features_Minfo]\n",
        "# Show the Selected Features\n",
        "print(df_Minfo.columns)"
      ]
    },
    {
      "cell_type": "markdown",
      "metadata": {},
      "source": [
        "## ***Random Forest*** finetuning"
      ]
    },
    {
      "cell_type": "code",
      "execution_count": 679,
      "metadata": {},
      "outputs": [
        {
          "name": "stdout",
          "output_type": "stream",
          "text": [
            "Fitting 3 folds for each of 100 candidates, totalling 300 fits\n"
          ]
        }
      ],
      "source": [
        "param_grid = {\n",
        "    'n_estimators': [100, 200, 300, 400, 500],\n",
        "    'max_features': ['sqrt', 'log2'],\n",
        "    'max_depth': [10, 20, 30, 40, 50, None],\n",
        "    'min_samples_split': [2, 5, 10],\n",
        "    'min_samples_leaf': [1, 2, 4],\n",
        "    'bootstrap': [True, False]\n",
        "}\n",
        "\n",
        "rfc_random = RandomizedSearchCV(estimator=rfc, param_distributions=param_grid, n_iter=100, cv=3, verbose=2, random_state=42, n_jobs=-1)\n",
        "rfc_random.fit(X_train_new, y_train_new)\n",
        "\n",
        "best_rf = rfc_random.best_estimator_\n",
        "\n"
      ]
    },
    {
      "cell_type": "code",
      "execution_count": 680,
      "metadata": {},
      "outputs": [
        {
          "name": "stdout",
          "output_type": "stream",
          "text": [
            "Optimized Model Accuracy (train): 0.9802231480151319\n",
            "Optimized Model Accuracy (test): 0.9092110555651325\n",
            "Jtrain:  0.005219556577120145\n"
          ]
        }
      ],
      "source": [
        "# Evaluate the model\n",
        "y_pred = best_rf.predict(X_train_new)\n",
        "print(f\"Optimized Model Accuracy (train): {accuracy_score(y_train_new, y_pred)}\")\n",
        "y_pred = best_rf.predict(X_test_new)\n",
        "print(f\"Optimized Model Accuracy (test): {accuracy_score(y_test_new, y_pred)}\")\n",
        "# Overfitting test\n",
        "y_pred_train = rfc.predict(X_train_new)\n",
        "y_pred_cv = rfc.predict(X_cv_new)\n",
        "jtrain = mean_squared_error(y_train_new, y_pred_train)\n",
        "# jcv = mean_squared_error(y_cv_new, y_pred_cv)\n",
        "print(\"Jtrain: \",jtrain)\n",
        "# print(\"Jcv: \",jcv)"
      ]
    },
    {
      "cell_type": "markdown",
      "metadata": {},
      "source": [
        "## ***XGBOOST*** finetuning"
      ]
    },
    {
      "cell_type": "code",
      "execution_count": 681,
      "metadata": {},
      "outputs": [
        {
          "name": "stdout",
          "output_type": "stream",
          "text": [
            "Fitting 5 folds for each of 100 candidates, totalling 500 fits\n"
          ]
        },
        {
          "name": "stderr",
          "output_type": "stream",
          "text": [
            "c:\\Users\\youss\\AppData\\Local\\Programs\\Python\\Python312\\Lib\\site-packages\\xgboost\\core.py:158: UserWarning: [04:02:09] WARNING: C:\\buildkite-agent\\builds\\buildkite-windows-cpu-autoscaling-group-i-06abd128ca6c1688d-1\\xgboost\\xgboost-ci-windows\\src\\learner.cc:740: \n",
            "Parameters: { \"use_label_encoder\" } are not used.\n",
            "\n",
            "  warnings.warn(smsg, UserWarning)\n"
          ]
        }
      ],
      "source": [
        "# Define the parameter distributions\n",
        "param_dist = {\n",
        "    'n_estimators': randint(50, 200),\n",
        "    'max_depth': randint(3, 10),\n",
        "    'learning_rate': uniform(0.01, 0.3),\n",
        "    'subsample': uniform(0.6, 0.4),\n",
        "    'colsample_bytree': uniform(0.6, 0.4)\n",
        "}\n",
        "\n",
        "# Initialize the XGBClassifier\n",
        "xgb = XGBClassifier(random_state=42, use_label_encoder=False, eval_metric='logloss')\n",
        "\n",
        "# Initialize RandomizedSearchCV\n",
        "random_search = RandomizedSearchCV(estimator=xgb, param_distributions=param_dist,\n",
        "                                   n_iter=100, cv=5, scoring='accuracy',\n",
        "                                   random_state=42, n_jobs=-1, verbose=2)\n",
        "\n",
        "# Fit the model\n",
        "random_search.fit(X_train_new, y_train_new)\n",
        "\n",
        "# Use the best model\n",
        "best_xgb = random_search.best_estimator_\n"
      ]
    },
    {
      "cell_type": "code",
      "execution_count": 682,
      "metadata": {},
      "outputs": [
        {
          "name": "stdout",
          "output_type": "stream",
          "text": [
            "Optimized Model Accuracy (train): 0.9720825551884308\n",
            "Optimized Model Accuracy (test): 0.9071999080618284\n",
            "Jtrain:  0.027917444811569218\n",
            "Jcv:  0.027696374188358328\n"
          ]
        }
      ],
      "source": [
        "# Evaluate the model\n",
        "y_pred = best_xgb.predict(X_train_new)\n",
        "print(f\"Optimized Model Accuracy (train): {accuracy_score(y_train_new, y_pred)}\")\n",
        "y_pred = best_xgb.predict(X_test_new)\n",
        "print(f\"Optimized Model Accuracy (test): {accuracy_score(y_test_new, y_pred)}\")\n",
        "# Overfitting test\n",
        "y_pred_train = best_xgb.predict(X_train_new)\n",
        "y_pred_cv = best_xgb.predict(X_cv_new)\n",
        "jtrain = mean_squared_error(y_train_new, y_pred_train)\n",
        "jcv = mean_squared_error(y_cv_new, y_pred_cv)\n",
        "print(\"Jtrain: \",jtrain)\n",
        "print(\"Jcv: \",jcv)"
      ]
    },
    {
      "cell_type": "code",
      "execution_count": null,
      "metadata": {},
      "outputs": [],
      "source": [
        "from sklearn.metrics import accuracy_score, mean_squared_error, confusion_matrix, classification_report\n",
        "\n",
        "def model_evaluation_classification(model, X_train, y_train, X_cv, y_cv, X_test, y_test):\n",
        "    # Evaluate on training data\n",
        "    y_train_pred = model.predict(X_train)\n",
        "    train_accuracy = accuracy_score(y_train, y_train_pred)\n",
        "    print(f\"Training Accuracy: {train_accuracy}\")\n",
        "    \n",
        "    # Evaluate on cross-validation data\n",
        "    y_cv_pred = model.predict(X_cv)\n",
        "    cv_accuracy = accuracy_score(y_cv, y_cv_pred)\n",
        "    print(f\"Cross-Validation Accuracy: {cv_accuracy}\")\n",
        "    \n",
        "    # Evaluate on test data\n",
        "    y_test_pred = model.predict(X_test)\n",
        "    test_accuracy = accuracy_score(y_test, y_test_pred)\n",
        "    print(f\"Test Accuracy: {test_accuracy}\")\n",
        "    \n",
        "    # Additional metrics\n",
        "    print(\"Confusion Matrix:\\n\", confusion_matrix(y_test, y_test_pred))\n",
        "    print(\"Classification Report:\\n\", classification_report(y_test, y_test_pred))\n"
      ]
    }
  ],
  "metadata": {
    "colab": {
      "provenance": []
    },
    "kernelspec": {
      "display_name": "Python 3",
      "name": "python3"
    },
    "language_info": {
      "codemirror_mode": {
        "name": "ipython",
        "version": 3
      },
      "file_extension": ".py",
      "mimetype": "text/x-python",
      "name": "python",
      "nbconvert_exporter": "python",
      "pygments_lexer": "ipython3",
      "version": "3.12.1"
    }
  },
  "nbformat": 4,
  "nbformat_minor": 0
}
